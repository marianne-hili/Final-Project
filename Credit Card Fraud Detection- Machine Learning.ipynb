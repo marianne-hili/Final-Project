{
 "cells": [
  {
   "cell_type": "markdown",
   "id": "4b54d28f",
   "metadata": {},
   "source": [
    "# Exploring the Effectiveness of Machine Learning and Deep Learning Algorithms in Credit Card Fraud Detection: A Comparative Study"
   ]
  },
  {
   "cell_type": "markdown",
   "id": "1e2220b2",
   "metadata": {},
   "source": [
    "## Machine Learning "
   ]
  },
  {
   "cell_type": "markdown",
   "id": "c311c701",
   "metadata": {},
   "source": [
    "The research project will analyse and compare the performance of machine learning algorithms that are commonly used for credit card fraud detection. \n",
    "\n",
    "The dataset being used is obtained from Kaggle- Credit Card Fraud Detection. The dataset consists of data from European cardholders from September 2013, with a total of 284,807 transactions. Out of the 284,807 transactions, 492 are fraudulent therefore, it is an imbalanced dataset.\n",
    "\n",
    "The structure of the Jupyter Notebook is as follows:\n",
    "- Part 1: Data Exploratory\n",
    "- Part 2: Machine Learning and Deep Learning Algorithms\n",
    "\n",
    "Part 1: Data Exploratory will consist of exploring the data and drop any features that are not useful for the analysis. The correlation between the features and the target variable will be determined and the features with a low correlation to the target variable are dropped.\n",
    "\n",
    "Part 2: Machine Learning and Deep Learning Algorithms will consist of analysing the algorithms. Oversampling, undersampling and a combination of both will be used on the dataset. "
   ]
  },
  {
   "cell_type": "markdown",
   "id": "0710ed1a",
   "metadata": {},
   "source": [
    "## Part 1: Data Exploratory"
   ]
  },
  {
   "cell_type": "markdown",
   "id": "c6c504fe",
   "metadata": {},
   "source": [
    "### Importing the necessary libraries"
   ]
  },
  {
   "cell_type": "code",
   "execution_count": 1,
   "id": "5e1523bf",
   "metadata": {},
   "outputs": [],
   "source": [
    "import pandas as pd\n",
    "import numpy as np\n",
    "import matplotlib.pyplot as plt\n",
    "import seaborn as sns\n",
    "\n",
    "import warnings\n",
    "warnings.filterwarnings('ignore')"
   ]
  },
  {
   "cell_type": "markdown",
   "id": "23ec79c5",
   "metadata": {},
   "source": [
    "### Reading the data"
   ]
  },
  {
   "cell_type": "markdown",
   "id": "ea91d00a",
   "metadata": {},
   "source": [
    "Getting the data of the dataset."
   ]
  },
  {
   "cell_type": "code",
   "execution_count": 2,
   "id": "99e359e7",
   "metadata": {},
   "outputs": [
    {
     "data": {
      "text/html": [
       "<div>\n",
       "<style scoped>\n",
       "    .dataframe tbody tr th:only-of-type {\n",
       "        vertical-align: middle;\n",
       "    }\n",
       "\n",
       "    .dataframe tbody tr th {\n",
       "        vertical-align: top;\n",
       "    }\n",
       "\n",
       "    .dataframe thead th {\n",
       "        text-align: right;\n",
       "    }\n",
       "</style>\n",
       "<table border=\"1\" class=\"dataframe\">\n",
       "  <thead>\n",
       "    <tr style=\"text-align: right;\">\n",
       "      <th></th>\n",
       "      <th>Time</th>\n",
       "      <th>V1</th>\n",
       "      <th>V2</th>\n",
       "      <th>V3</th>\n",
       "      <th>V4</th>\n",
       "      <th>V5</th>\n",
       "      <th>V6</th>\n",
       "      <th>V7</th>\n",
       "      <th>V8</th>\n",
       "      <th>V9</th>\n",
       "      <th>...</th>\n",
       "      <th>V21</th>\n",
       "      <th>V22</th>\n",
       "      <th>V23</th>\n",
       "      <th>V24</th>\n",
       "      <th>V25</th>\n",
       "      <th>V26</th>\n",
       "      <th>V27</th>\n",
       "      <th>V28</th>\n",
       "      <th>Amount</th>\n",
       "      <th>Class</th>\n",
       "    </tr>\n",
       "  </thead>\n",
       "  <tbody>\n",
       "    <tr>\n",
       "      <th>0</th>\n",
       "      <td>0.0</td>\n",
       "      <td>-1.359807</td>\n",
       "      <td>-0.072781</td>\n",
       "      <td>2.536347</td>\n",
       "      <td>1.378155</td>\n",
       "      <td>-0.338321</td>\n",
       "      <td>0.462388</td>\n",
       "      <td>0.239599</td>\n",
       "      <td>0.098698</td>\n",
       "      <td>0.363787</td>\n",
       "      <td>...</td>\n",
       "      <td>-0.018307</td>\n",
       "      <td>0.277838</td>\n",
       "      <td>-0.110474</td>\n",
       "      <td>0.066928</td>\n",
       "      <td>0.128539</td>\n",
       "      <td>-0.189115</td>\n",
       "      <td>0.133558</td>\n",
       "      <td>-0.021053</td>\n",
       "      <td>149.62</td>\n",
       "      <td>0</td>\n",
       "    </tr>\n",
       "    <tr>\n",
       "      <th>1</th>\n",
       "      <td>0.0</td>\n",
       "      <td>1.191857</td>\n",
       "      <td>0.266151</td>\n",
       "      <td>0.166480</td>\n",
       "      <td>0.448154</td>\n",
       "      <td>0.060018</td>\n",
       "      <td>-0.082361</td>\n",
       "      <td>-0.078803</td>\n",
       "      <td>0.085102</td>\n",
       "      <td>-0.255425</td>\n",
       "      <td>...</td>\n",
       "      <td>-0.225775</td>\n",
       "      <td>-0.638672</td>\n",
       "      <td>0.101288</td>\n",
       "      <td>-0.339846</td>\n",
       "      <td>0.167170</td>\n",
       "      <td>0.125895</td>\n",
       "      <td>-0.008983</td>\n",
       "      <td>0.014724</td>\n",
       "      <td>2.69</td>\n",
       "      <td>0</td>\n",
       "    </tr>\n",
       "    <tr>\n",
       "      <th>2</th>\n",
       "      <td>1.0</td>\n",
       "      <td>-1.358354</td>\n",
       "      <td>-1.340163</td>\n",
       "      <td>1.773209</td>\n",
       "      <td>0.379780</td>\n",
       "      <td>-0.503198</td>\n",
       "      <td>1.800499</td>\n",
       "      <td>0.791461</td>\n",
       "      <td>0.247676</td>\n",
       "      <td>-1.514654</td>\n",
       "      <td>...</td>\n",
       "      <td>0.247998</td>\n",
       "      <td>0.771679</td>\n",
       "      <td>0.909412</td>\n",
       "      <td>-0.689281</td>\n",
       "      <td>-0.327642</td>\n",
       "      <td>-0.139097</td>\n",
       "      <td>-0.055353</td>\n",
       "      <td>-0.059752</td>\n",
       "      <td>378.66</td>\n",
       "      <td>0</td>\n",
       "    </tr>\n",
       "    <tr>\n",
       "      <th>3</th>\n",
       "      <td>1.0</td>\n",
       "      <td>-0.966272</td>\n",
       "      <td>-0.185226</td>\n",
       "      <td>1.792993</td>\n",
       "      <td>-0.863291</td>\n",
       "      <td>-0.010309</td>\n",
       "      <td>1.247203</td>\n",
       "      <td>0.237609</td>\n",
       "      <td>0.377436</td>\n",
       "      <td>-1.387024</td>\n",
       "      <td>...</td>\n",
       "      <td>-0.108300</td>\n",
       "      <td>0.005274</td>\n",
       "      <td>-0.190321</td>\n",
       "      <td>-1.175575</td>\n",
       "      <td>0.647376</td>\n",
       "      <td>-0.221929</td>\n",
       "      <td>0.062723</td>\n",
       "      <td>0.061458</td>\n",
       "      <td>123.50</td>\n",
       "      <td>0</td>\n",
       "    </tr>\n",
       "    <tr>\n",
       "      <th>4</th>\n",
       "      <td>2.0</td>\n",
       "      <td>-1.158233</td>\n",
       "      <td>0.877737</td>\n",
       "      <td>1.548718</td>\n",
       "      <td>0.403034</td>\n",
       "      <td>-0.407193</td>\n",
       "      <td>0.095921</td>\n",
       "      <td>0.592941</td>\n",
       "      <td>-0.270533</td>\n",
       "      <td>0.817739</td>\n",
       "      <td>...</td>\n",
       "      <td>-0.009431</td>\n",
       "      <td>0.798278</td>\n",
       "      <td>-0.137458</td>\n",
       "      <td>0.141267</td>\n",
       "      <td>-0.206010</td>\n",
       "      <td>0.502292</td>\n",
       "      <td>0.219422</td>\n",
       "      <td>0.215153</td>\n",
       "      <td>69.99</td>\n",
       "      <td>0</td>\n",
       "    </tr>\n",
       "  </tbody>\n",
       "</table>\n",
       "<p>5 rows × 31 columns</p>\n",
       "</div>"
      ],
      "text/plain": [
       "   Time        V1        V2        V3        V4        V5        V6        V7  \\\n",
       "0   0.0 -1.359807 -0.072781  2.536347  1.378155 -0.338321  0.462388  0.239599   \n",
       "1   0.0  1.191857  0.266151  0.166480  0.448154  0.060018 -0.082361 -0.078803   \n",
       "2   1.0 -1.358354 -1.340163  1.773209  0.379780 -0.503198  1.800499  0.791461   \n",
       "3   1.0 -0.966272 -0.185226  1.792993 -0.863291 -0.010309  1.247203  0.237609   \n",
       "4   2.0 -1.158233  0.877737  1.548718  0.403034 -0.407193  0.095921  0.592941   \n",
       "\n",
       "         V8        V9  ...       V21       V22       V23       V24       V25  \\\n",
       "0  0.098698  0.363787  ... -0.018307  0.277838 -0.110474  0.066928  0.128539   \n",
       "1  0.085102 -0.255425  ... -0.225775 -0.638672  0.101288 -0.339846  0.167170   \n",
       "2  0.247676 -1.514654  ...  0.247998  0.771679  0.909412 -0.689281 -0.327642   \n",
       "3  0.377436 -1.387024  ... -0.108300  0.005274 -0.190321 -1.175575  0.647376   \n",
       "4 -0.270533  0.817739  ... -0.009431  0.798278 -0.137458  0.141267 -0.206010   \n",
       "\n",
       "        V26       V27       V28  Amount  Class  \n",
       "0 -0.189115  0.133558 -0.021053  149.62      0  \n",
       "1  0.125895 -0.008983  0.014724    2.69      0  \n",
       "2 -0.139097 -0.055353 -0.059752  378.66      0  \n",
       "3 -0.221929  0.062723  0.061458  123.50      0  \n",
       "4  0.502292  0.219422  0.215153   69.99      0  \n",
       "\n",
       "[5 rows x 31 columns]"
      ]
     },
     "execution_count": 2,
     "metadata": {},
     "output_type": "execute_result"
    }
   ],
   "source": [
    "# Reading the 'creditcard.csv' file and storing it in a dataset\n",
    "df = pd.read_csv('creditcard.csv')\n",
    "\n",
    "# Displaying the first 5 rows to help understand what the dataset consists of \n",
    "df.head()"
   ]
  },
  {
   "cell_type": "markdown",
   "id": "87924ba5",
   "metadata": {},
   "source": [
    "Getting the shape of the dataset."
   ]
  },
  {
   "cell_type": "code",
   "execution_count": 3,
   "id": "50cd54bf",
   "metadata": {},
   "outputs": [
    {
     "data": {
      "text/plain": [
       "(284807, 31)"
      ]
     },
     "execution_count": 3,
     "metadata": {},
     "output_type": "execute_result"
    }
   ],
   "source": [
    "# Displaying the dimensions of the dataset\n",
    "df.shape"
   ]
  },
  {
   "cell_type": "markdown",
   "id": "e367c1f4",
   "metadata": {},
   "source": [
    "### Getting the data types of each variable"
   ]
  },
  {
   "cell_type": "code",
   "execution_count": 4,
   "id": "436dedc9",
   "metadata": {},
   "outputs": [
    {
     "name": "stdout",
     "output_type": "stream",
     "text": [
      "<class 'pandas.core.frame.DataFrame'>\n",
      "RangeIndex: 284807 entries, 0 to 284806\n",
      "Data columns (total 31 columns):\n",
      " #   Column  Non-Null Count   Dtype  \n",
      "---  ------  --------------   -----  \n",
      " 0   Time    284807 non-null  float64\n",
      " 1   V1      284807 non-null  float64\n",
      " 2   V2      284807 non-null  float64\n",
      " 3   V3      284807 non-null  float64\n",
      " 4   V4      284807 non-null  float64\n",
      " 5   V5      284807 non-null  float64\n",
      " 6   V6      284807 non-null  float64\n",
      " 7   V7      284807 non-null  float64\n",
      " 8   V8      284807 non-null  float64\n",
      " 9   V9      284807 non-null  float64\n",
      " 10  V10     284807 non-null  float64\n",
      " 11  V11     284807 non-null  float64\n",
      " 12  V12     284807 non-null  float64\n",
      " 13  V13     284807 non-null  float64\n",
      " 14  V14     284807 non-null  float64\n",
      " 15  V15     284807 non-null  float64\n",
      " 16  V16     284807 non-null  float64\n",
      " 17  V17     284807 non-null  float64\n",
      " 18  V18     284807 non-null  float64\n",
      " 19  V19     284807 non-null  float64\n",
      " 20  V20     284807 non-null  float64\n",
      " 21  V21     284807 non-null  float64\n",
      " 22  V22     284807 non-null  float64\n",
      " 23  V23     284807 non-null  float64\n",
      " 24  V24     284807 non-null  float64\n",
      " 25  V25     284807 non-null  float64\n",
      " 26  V26     284807 non-null  float64\n",
      " 27  V27     284807 non-null  float64\n",
      " 28  V28     284807 non-null  float64\n",
      " 29  Amount  284807 non-null  float64\n",
      " 30  Class   284807 non-null  int64  \n",
      "dtypes: float64(30), int64(1)\n",
      "memory usage: 67.4 MB\n"
     ]
    }
   ],
   "source": [
    "# Displaying the information about the dataset\n",
    "df.info()"
   ]
  },
  {
   "cell_type": "markdown",
   "id": "70e57407",
   "metadata": {},
   "source": [
    "The above shows that there are no null values in the dataset. The data types of the features are either float64 or int64.\n",
    "\n",
    "Time, Amount and Class are the only features that can be seen, that is they are the only features that we know what they represent exactly. Principal Component Analysis (PCA) was used to reduce the dimensionality of the features, V1 to V28."
   ]
  },
  {
   "cell_type": "markdown",
   "id": "0e630b1b",
   "metadata": {},
   "source": [
    "### Unique Values"
   ]
  },
  {
   "cell_type": "markdown",
   "id": "83a6b920",
   "metadata": {},
   "source": [
    "The unique values of every column will be determined. This will help determine if there are any duplicate values. "
   ]
  },
  {
   "cell_type": "code",
   "execution_count": 5,
   "id": "8d3307cc",
   "metadata": {},
   "outputs": [
    {
     "data": {
      "text/plain": [
       "Time      124592\n",
       "V1        275663\n",
       "V2        275663\n",
       "V3        275663\n",
       "V4        275663\n",
       "V5        275663\n",
       "V6        275663\n",
       "V7        275663\n",
       "V8        275663\n",
       "V9        275663\n",
       "V10       275663\n",
       "V11       275663\n",
       "V12       275663\n",
       "V13       275663\n",
       "V14       275663\n",
       "V15       275663\n",
       "V16       275663\n",
       "V17       275663\n",
       "V18       275663\n",
       "V19       275663\n",
       "V20       275663\n",
       "V21       275663\n",
       "V22       275663\n",
       "V23       275663\n",
       "V24       275663\n",
       "V25       275663\n",
       "V26       275663\n",
       "V27       275663\n",
       "V28       275663\n",
       "Amount     32767\n",
       "Class          2\n",
       "dtype: int64"
      ]
     },
     "execution_count": 5,
     "metadata": {},
     "output_type": "execute_result"
    }
   ],
   "source": [
    "# Unique values of each column\n",
    "df.nunique()"
   ]
  },
  {
   "cell_type": "markdown",
   "id": "51f0ce3d",
   "metadata": {},
   "source": [
    "The above shows that there are duplicate values. The next step is to see how many duplicate values the dataset has and then drop these values."
   ]
  },
  {
   "cell_type": "markdown",
   "id": "aaabc615",
   "metadata": {},
   "source": [
    "### Dropping the duplicate values"
   ]
  },
  {
   "cell_type": "code",
   "execution_count": 6,
   "id": "5922921b",
   "metadata": {},
   "outputs": [
    {
     "data": {
      "text/plain": [
       "1081"
      ]
     },
     "execution_count": 6,
     "metadata": {},
     "output_type": "execute_result"
    }
   ],
   "source": [
    "# Counting the number of duplicate rows in the dataset\n",
    "df.duplicated().sum()"
   ]
  },
  {
   "cell_type": "markdown",
   "id": "de45f7ad",
   "metadata": {},
   "source": [
    "There are a total of 1081 duplicate values. These values will be dropped. "
   ]
  },
  {
   "cell_type": "code",
   "execution_count": 7,
   "id": "f21229d0",
   "metadata": {},
   "outputs": [],
   "source": [
    "# Removing the duplicate rows from the dataset\n",
    "df.drop_duplicates(keep = 'first', inplace = True)"
   ]
  },
  {
   "cell_type": "code",
   "execution_count": 8,
   "id": "71ace376",
   "metadata": {},
   "outputs": [
    {
     "data": {
      "text/plain": [
       "0"
      ]
     },
     "execution_count": 8,
     "metadata": {},
     "output_type": "execute_result"
    }
   ],
   "source": [
    "# Making sure that there are no more duplicate rows\n",
    "df.duplicated().sum()"
   ]
  },
  {
   "cell_type": "markdown",
   "id": "9d7665a1",
   "metadata": {},
   "source": [
    "This confirms that all the duplicate rows have been dropped."
   ]
  },
  {
   "cell_type": "markdown",
   "id": "75af9b01",
   "metadata": {},
   "source": [
    "### Splitting the data"
   ]
  },
  {
   "cell_type": "markdown",
   "id": "e1367e5b",
   "metadata": {},
   "source": [
    "Splitting the data into input features which will be put under features and the output feature which will be the target. "
   ]
  },
  {
   "cell_type": "code",
   "execution_count": 9,
   "id": "960494ad",
   "metadata": {},
   "outputs": [],
   "source": [
    "# Separating the features and target variable\n",
    "# Input features\n",
    "features = df.iloc[:,:-1]\n",
    "# Output feature - Class\n",
    "target = df.iloc[:,-1]"
   ]
  },
  {
   "cell_type": "code",
   "execution_count": 10,
   "id": "6b51bc17",
   "metadata": {},
   "outputs": [
    {
     "data": {
      "text/html": [
       "<div>\n",
       "<style scoped>\n",
       "    .dataframe tbody tr th:only-of-type {\n",
       "        vertical-align: middle;\n",
       "    }\n",
       "\n",
       "    .dataframe tbody tr th {\n",
       "        vertical-align: top;\n",
       "    }\n",
       "\n",
       "    .dataframe thead th {\n",
       "        text-align: right;\n",
       "    }\n",
       "</style>\n",
       "<table border=\"1\" class=\"dataframe\">\n",
       "  <thead>\n",
       "    <tr style=\"text-align: right;\">\n",
       "      <th></th>\n",
       "      <th>Time</th>\n",
       "      <th>V1</th>\n",
       "      <th>V2</th>\n",
       "      <th>V3</th>\n",
       "      <th>V4</th>\n",
       "      <th>V5</th>\n",
       "      <th>V6</th>\n",
       "      <th>V7</th>\n",
       "      <th>V8</th>\n",
       "      <th>V9</th>\n",
       "      <th>...</th>\n",
       "      <th>V20</th>\n",
       "      <th>V21</th>\n",
       "      <th>V22</th>\n",
       "      <th>V23</th>\n",
       "      <th>V24</th>\n",
       "      <th>V25</th>\n",
       "      <th>V26</th>\n",
       "      <th>V27</th>\n",
       "      <th>V28</th>\n",
       "      <th>Amount</th>\n",
       "    </tr>\n",
       "  </thead>\n",
       "  <tbody>\n",
       "    <tr>\n",
       "      <th>0</th>\n",
       "      <td>0.0</td>\n",
       "      <td>-1.359807</td>\n",
       "      <td>-0.072781</td>\n",
       "      <td>2.536347</td>\n",
       "      <td>1.378155</td>\n",
       "      <td>-0.338321</td>\n",
       "      <td>0.462388</td>\n",
       "      <td>0.239599</td>\n",
       "      <td>0.098698</td>\n",
       "      <td>0.363787</td>\n",
       "      <td>...</td>\n",
       "      <td>0.251412</td>\n",
       "      <td>-0.018307</td>\n",
       "      <td>0.277838</td>\n",
       "      <td>-0.110474</td>\n",
       "      <td>0.066928</td>\n",
       "      <td>0.128539</td>\n",
       "      <td>-0.189115</td>\n",
       "      <td>0.133558</td>\n",
       "      <td>-0.021053</td>\n",
       "      <td>149.62</td>\n",
       "    </tr>\n",
       "    <tr>\n",
       "      <th>1</th>\n",
       "      <td>0.0</td>\n",
       "      <td>1.191857</td>\n",
       "      <td>0.266151</td>\n",
       "      <td>0.166480</td>\n",
       "      <td>0.448154</td>\n",
       "      <td>0.060018</td>\n",
       "      <td>-0.082361</td>\n",
       "      <td>-0.078803</td>\n",
       "      <td>0.085102</td>\n",
       "      <td>-0.255425</td>\n",
       "      <td>...</td>\n",
       "      <td>-0.069083</td>\n",
       "      <td>-0.225775</td>\n",
       "      <td>-0.638672</td>\n",
       "      <td>0.101288</td>\n",
       "      <td>-0.339846</td>\n",
       "      <td>0.167170</td>\n",
       "      <td>0.125895</td>\n",
       "      <td>-0.008983</td>\n",
       "      <td>0.014724</td>\n",
       "      <td>2.69</td>\n",
       "    </tr>\n",
       "    <tr>\n",
       "      <th>2</th>\n",
       "      <td>1.0</td>\n",
       "      <td>-1.358354</td>\n",
       "      <td>-1.340163</td>\n",
       "      <td>1.773209</td>\n",
       "      <td>0.379780</td>\n",
       "      <td>-0.503198</td>\n",
       "      <td>1.800499</td>\n",
       "      <td>0.791461</td>\n",
       "      <td>0.247676</td>\n",
       "      <td>-1.514654</td>\n",
       "      <td>...</td>\n",
       "      <td>0.524980</td>\n",
       "      <td>0.247998</td>\n",
       "      <td>0.771679</td>\n",
       "      <td>0.909412</td>\n",
       "      <td>-0.689281</td>\n",
       "      <td>-0.327642</td>\n",
       "      <td>-0.139097</td>\n",
       "      <td>-0.055353</td>\n",
       "      <td>-0.059752</td>\n",
       "      <td>378.66</td>\n",
       "    </tr>\n",
       "    <tr>\n",
       "      <th>3</th>\n",
       "      <td>1.0</td>\n",
       "      <td>-0.966272</td>\n",
       "      <td>-0.185226</td>\n",
       "      <td>1.792993</td>\n",
       "      <td>-0.863291</td>\n",
       "      <td>-0.010309</td>\n",
       "      <td>1.247203</td>\n",
       "      <td>0.237609</td>\n",
       "      <td>0.377436</td>\n",
       "      <td>-1.387024</td>\n",
       "      <td>...</td>\n",
       "      <td>-0.208038</td>\n",
       "      <td>-0.108300</td>\n",
       "      <td>0.005274</td>\n",
       "      <td>-0.190321</td>\n",
       "      <td>-1.175575</td>\n",
       "      <td>0.647376</td>\n",
       "      <td>-0.221929</td>\n",
       "      <td>0.062723</td>\n",
       "      <td>0.061458</td>\n",
       "      <td>123.50</td>\n",
       "    </tr>\n",
       "    <tr>\n",
       "      <th>4</th>\n",
       "      <td>2.0</td>\n",
       "      <td>-1.158233</td>\n",
       "      <td>0.877737</td>\n",
       "      <td>1.548718</td>\n",
       "      <td>0.403034</td>\n",
       "      <td>-0.407193</td>\n",
       "      <td>0.095921</td>\n",
       "      <td>0.592941</td>\n",
       "      <td>-0.270533</td>\n",
       "      <td>0.817739</td>\n",
       "      <td>...</td>\n",
       "      <td>0.408542</td>\n",
       "      <td>-0.009431</td>\n",
       "      <td>0.798278</td>\n",
       "      <td>-0.137458</td>\n",
       "      <td>0.141267</td>\n",
       "      <td>-0.206010</td>\n",
       "      <td>0.502292</td>\n",
       "      <td>0.219422</td>\n",
       "      <td>0.215153</td>\n",
       "      <td>69.99</td>\n",
       "    </tr>\n",
       "    <tr>\n",
       "      <th>...</th>\n",
       "      <td>...</td>\n",
       "      <td>...</td>\n",
       "      <td>...</td>\n",
       "      <td>...</td>\n",
       "      <td>...</td>\n",
       "      <td>...</td>\n",
       "      <td>...</td>\n",
       "      <td>...</td>\n",
       "      <td>...</td>\n",
       "      <td>...</td>\n",
       "      <td>...</td>\n",
       "      <td>...</td>\n",
       "      <td>...</td>\n",
       "      <td>...</td>\n",
       "      <td>...</td>\n",
       "      <td>...</td>\n",
       "      <td>...</td>\n",
       "      <td>...</td>\n",
       "      <td>...</td>\n",
       "      <td>...</td>\n",
       "      <td>...</td>\n",
       "    </tr>\n",
       "    <tr>\n",
       "      <th>284802</th>\n",
       "      <td>172786.0</td>\n",
       "      <td>-11.881118</td>\n",
       "      <td>10.071785</td>\n",
       "      <td>-9.834783</td>\n",
       "      <td>-2.066656</td>\n",
       "      <td>-5.364473</td>\n",
       "      <td>-2.606837</td>\n",
       "      <td>-4.918215</td>\n",
       "      <td>7.305334</td>\n",
       "      <td>1.914428</td>\n",
       "      <td>...</td>\n",
       "      <td>1.475829</td>\n",
       "      <td>0.213454</td>\n",
       "      <td>0.111864</td>\n",
       "      <td>1.014480</td>\n",
       "      <td>-0.509348</td>\n",
       "      <td>1.436807</td>\n",
       "      <td>0.250034</td>\n",
       "      <td>0.943651</td>\n",
       "      <td>0.823731</td>\n",
       "      <td>0.77</td>\n",
       "    </tr>\n",
       "    <tr>\n",
       "      <th>284803</th>\n",
       "      <td>172787.0</td>\n",
       "      <td>-0.732789</td>\n",
       "      <td>-0.055080</td>\n",
       "      <td>2.035030</td>\n",
       "      <td>-0.738589</td>\n",
       "      <td>0.868229</td>\n",
       "      <td>1.058415</td>\n",
       "      <td>0.024330</td>\n",
       "      <td>0.294869</td>\n",
       "      <td>0.584800</td>\n",
       "      <td>...</td>\n",
       "      <td>0.059616</td>\n",
       "      <td>0.214205</td>\n",
       "      <td>0.924384</td>\n",
       "      <td>0.012463</td>\n",
       "      <td>-1.016226</td>\n",
       "      <td>-0.606624</td>\n",
       "      <td>-0.395255</td>\n",
       "      <td>0.068472</td>\n",
       "      <td>-0.053527</td>\n",
       "      <td>24.79</td>\n",
       "    </tr>\n",
       "    <tr>\n",
       "      <th>284804</th>\n",
       "      <td>172788.0</td>\n",
       "      <td>1.919565</td>\n",
       "      <td>-0.301254</td>\n",
       "      <td>-3.249640</td>\n",
       "      <td>-0.557828</td>\n",
       "      <td>2.630515</td>\n",
       "      <td>3.031260</td>\n",
       "      <td>-0.296827</td>\n",
       "      <td>0.708417</td>\n",
       "      <td>0.432454</td>\n",
       "      <td>...</td>\n",
       "      <td>0.001396</td>\n",
       "      <td>0.232045</td>\n",
       "      <td>0.578229</td>\n",
       "      <td>-0.037501</td>\n",
       "      <td>0.640134</td>\n",
       "      <td>0.265745</td>\n",
       "      <td>-0.087371</td>\n",
       "      <td>0.004455</td>\n",
       "      <td>-0.026561</td>\n",
       "      <td>67.88</td>\n",
       "    </tr>\n",
       "    <tr>\n",
       "      <th>284805</th>\n",
       "      <td>172788.0</td>\n",
       "      <td>-0.240440</td>\n",
       "      <td>0.530483</td>\n",
       "      <td>0.702510</td>\n",
       "      <td>0.689799</td>\n",
       "      <td>-0.377961</td>\n",
       "      <td>0.623708</td>\n",
       "      <td>-0.686180</td>\n",
       "      <td>0.679145</td>\n",
       "      <td>0.392087</td>\n",
       "      <td>...</td>\n",
       "      <td>0.127434</td>\n",
       "      <td>0.265245</td>\n",
       "      <td>0.800049</td>\n",
       "      <td>-0.163298</td>\n",
       "      <td>0.123205</td>\n",
       "      <td>-0.569159</td>\n",
       "      <td>0.546668</td>\n",
       "      <td>0.108821</td>\n",
       "      <td>0.104533</td>\n",
       "      <td>10.00</td>\n",
       "    </tr>\n",
       "    <tr>\n",
       "      <th>284806</th>\n",
       "      <td>172792.0</td>\n",
       "      <td>-0.533413</td>\n",
       "      <td>-0.189733</td>\n",
       "      <td>0.703337</td>\n",
       "      <td>-0.506271</td>\n",
       "      <td>-0.012546</td>\n",
       "      <td>-0.649617</td>\n",
       "      <td>1.577006</td>\n",
       "      <td>-0.414650</td>\n",
       "      <td>0.486180</td>\n",
       "      <td>...</td>\n",
       "      <td>0.382948</td>\n",
       "      <td>0.261057</td>\n",
       "      <td>0.643078</td>\n",
       "      <td>0.376777</td>\n",
       "      <td>0.008797</td>\n",
       "      <td>-0.473649</td>\n",
       "      <td>-0.818267</td>\n",
       "      <td>-0.002415</td>\n",
       "      <td>0.013649</td>\n",
       "      <td>217.00</td>\n",
       "    </tr>\n",
       "  </tbody>\n",
       "</table>\n",
       "<p>283726 rows × 30 columns</p>\n",
       "</div>"
      ],
      "text/plain": [
       "            Time         V1         V2        V3        V4        V5  \\\n",
       "0            0.0  -1.359807  -0.072781  2.536347  1.378155 -0.338321   \n",
       "1            0.0   1.191857   0.266151  0.166480  0.448154  0.060018   \n",
       "2            1.0  -1.358354  -1.340163  1.773209  0.379780 -0.503198   \n",
       "3            1.0  -0.966272  -0.185226  1.792993 -0.863291 -0.010309   \n",
       "4            2.0  -1.158233   0.877737  1.548718  0.403034 -0.407193   \n",
       "...          ...        ...        ...       ...       ...       ...   \n",
       "284802  172786.0 -11.881118  10.071785 -9.834783 -2.066656 -5.364473   \n",
       "284803  172787.0  -0.732789  -0.055080  2.035030 -0.738589  0.868229   \n",
       "284804  172788.0   1.919565  -0.301254 -3.249640 -0.557828  2.630515   \n",
       "284805  172788.0  -0.240440   0.530483  0.702510  0.689799 -0.377961   \n",
       "284806  172792.0  -0.533413  -0.189733  0.703337 -0.506271 -0.012546   \n",
       "\n",
       "              V6        V7        V8        V9  ...       V20       V21  \\\n",
       "0       0.462388  0.239599  0.098698  0.363787  ...  0.251412 -0.018307   \n",
       "1      -0.082361 -0.078803  0.085102 -0.255425  ... -0.069083 -0.225775   \n",
       "2       1.800499  0.791461  0.247676 -1.514654  ...  0.524980  0.247998   \n",
       "3       1.247203  0.237609  0.377436 -1.387024  ... -0.208038 -0.108300   \n",
       "4       0.095921  0.592941 -0.270533  0.817739  ...  0.408542 -0.009431   \n",
       "...          ...       ...       ...       ...  ...       ...       ...   \n",
       "284802 -2.606837 -4.918215  7.305334  1.914428  ...  1.475829  0.213454   \n",
       "284803  1.058415  0.024330  0.294869  0.584800  ...  0.059616  0.214205   \n",
       "284804  3.031260 -0.296827  0.708417  0.432454  ...  0.001396  0.232045   \n",
       "284805  0.623708 -0.686180  0.679145  0.392087  ...  0.127434  0.265245   \n",
       "284806 -0.649617  1.577006 -0.414650  0.486180  ...  0.382948  0.261057   \n",
       "\n",
       "             V22       V23       V24       V25       V26       V27       V28  \\\n",
       "0       0.277838 -0.110474  0.066928  0.128539 -0.189115  0.133558 -0.021053   \n",
       "1      -0.638672  0.101288 -0.339846  0.167170  0.125895 -0.008983  0.014724   \n",
       "2       0.771679  0.909412 -0.689281 -0.327642 -0.139097 -0.055353 -0.059752   \n",
       "3       0.005274 -0.190321 -1.175575  0.647376 -0.221929  0.062723  0.061458   \n",
       "4       0.798278 -0.137458  0.141267 -0.206010  0.502292  0.219422  0.215153   \n",
       "...          ...       ...       ...       ...       ...       ...       ...   \n",
       "284802  0.111864  1.014480 -0.509348  1.436807  0.250034  0.943651  0.823731   \n",
       "284803  0.924384  0.012463 -1.016226 -0.606624 -0.395255  0.068472 -0.053527   \n",
       "284804  0.578229 -0.037501  0.640134  0.265745 -0.087371  0.004455 -0.026561   \n",
       "284805  0.800049 -0.163298  0.123205 -0.569159  0.546668  0.108821  0.104533   \n",
       "284806  0.643078  0.376777  0.008797 -0.473649 -0.818267 -0.002415  0.013649   \n",
       "\n",
       "        Amount  \n",
       "0       149.62  \n",
       "1         2.69  \n",
       "2       378.66  \n",
       "3       123.50  \n",
       "4        69.99  \n",
       "...        ...  \n",
       "284802    0.77  \n",
       "284803   24.79  \n",
       "284804   67.88  \n",
       "284805   10.00  \n",
       "284806  217.00  \n",
       "\n",
       "[283726 rows x 30 columns]"
      ]
     },
     "execution_count": 10,
     "metadata": {},
     "output_type": "execute_result"
    }
   ],
   "source": [
    "# Displaying the a few rows of the dataset containing the features variables\n",
    "features"
   ]
  },
  {
   "cell_type": "code",
   "execution_count": 11,
   "id": "b4034e9f",
   "metadata": {},
   "outputs": [
    {
     "data": {
      "text/plain": [
       "0         0\n",
       "1         0\n",
       "2         0\n",
       "3         0\n",
       "4         0\n",
       "         ..\n",
       "284802    0\n",
       "284803    0\n",
       "284804    0\n",
       "284805    0\n",
       "284806    0\n",
       "Name: Class, Length: 283726, dtype: int64"
      ]
     },
     "execution_count": 11,
     "metadata": {},
     "output_type": "execute_result"
    }
   ],
   "source": [
    "# Displaying the a few rows of the dataset containing the target variable, Class\n",
    "target"
   ]
  },
  {
   "cell_type": "markdown",
   "id": "12c03f92",
   "metadata": {},
   "source": [
    "0 = Not Fraudulent\n",
    "1 = Fraudulent"
   ]
  },
  {
   "cell_type": "code",
   "execution_count": 12,
   "id": "6fb526b3",
   "metadata": {},
   "outputs": [
    {
     "data": {
      "text/plain": [
       "0    283253\n",
       "1       473\n",
       "Name: Class, dtype: int64"
      ]
     },
     "execution_count": 12,
     "metadata": {},
     "output_type": "execute_result"
    }
   ],
   "source": [
    "# Counting the number of times each unique value appears \n",
    "target.value_counts()"
   ]
  },
  {
   "cell_type": "markdown",
   "id": "2b5166ab",
   "metadata": {},
   "source": [
    "The above shows that the dataset is highly imbalanced. There are more non-fraudulent transactions than fraudulent transactions."
   ]
  },
  {
   "cell_type": "markdown",
   "id": "58d12d9a",
   "metadata": {},
   "source": [
    "### Plotting the target variable"
   ]
  },
  {
   "cell_type": "markdown",
   "id": "a6ec0579",
   "metadata": {},
   "source": [
    "Plotting the count of fraudulent and non-fraudulent transactions in the Class column."
   ]
  },
  {
   "cell_type": "code",
   "execution_count": 13,
   "id": "c13e9438",
   "metadata": {},
   "outputs": [
    {
     "data": {
      "text/plain": [
       "<AxesSubplot:xlabel='Class', ylabel='count'>"
      ]
     },
     "execution_count": 13,
     "metadata": {},
     "output_type": "execute_result"
    },
    {
     "data": {
      "image/png": "[encoded data removed]",
      "text/plain": [
       "<Figure size 640x480 with 1 Axes>"
      ]
     },
     "metadata": {},
     "output_type": "display_data"
    }
   ],
   "source": [
    "# Count plot of the Class column\n",
    "sns.countplot(data = df, x = 'Class')"
   ]
  },
  {
   "cell_type": "markdown",
   "id": "73ec7f03",
   "metadata": {},
   "source": [
    "As the count plot shows, the majority of the transactions are non-fraudulent which can be seen by the height of the blue bar. The red bar shows the fraudulent transactions. This shows that the dataset is highly imbalanced. "
   ]
  },
  {
   "cell_type": "markdown",
   "id": "182b02d8",
   "metadata": {},
   "source": [
    "### Correlation between features and target"
   ]
  },
  {
   "cell_type": "code",
   "execution_count": 14,
   "id": "05fae031",
   "metadata": {},
   "outputs": [
    {
     "data": {
      "text/plain": [
       "<BarContainer object of 30 artists>"
      ]
     },
     "execution_count": 14,
     "metadata": {},
     "output_type": "execute_result"
    },
    {
     "data": {
      "image/png": "[encoded data removed]",
      "text/plain": [
       "<Figure size 1600x1000 with 1 Axes>"
      ]
     },
     "metadata": {},
     "output_type": "display_data"
    }
   ],
   "source": [
    "# Getting the list of columns from the dataset, excluding Class\n",
    "col = df.describe().transpose().index\n",
    "col = col.tolist()\n",
    "col.remove('Class')\n",
    "\n",
    "# Initializing an empty list so the correlation of values between features and target are stored in the list \n",
    "correlation = []\n",
    "\n",
    "# Looping through each feature to calculate the correlation with 'Class'\n",
    "for i in col:\n",
    "    correlation.append(np.corrcoef(df[i], df['Class'])[0,1])\n",
    "    \n",
    "# Sorting the values in ascending order\n",
    "correlation.sort()\n",
    "\n",
    "# Creating a horizontal bar plot to plot the correlation for each feature\n",
    "fig, ax = plt.subplots(figsize=(16,10))\n",
    "ax.barh(col, correlation)"
   ]
  },
  {
   "cell_type": "markdown",
   "id": "d202a65d",
   "metadata": {},
   "source": [
    "The above figure shows the correlation between the features and the output feature, Class. The features with a low correlation will be dropped. "
   ]
  },
  {
   "cell_type": "markdown",
   "id": "0c427928",
   "metadata": {},
   "source": [
    "### Dropping the features with low correlation"
   ]
  },
  {
   "cell_type": "markdown",
   "id": "7e9ad64f",
   "metadata": {},
   "source": [
    "Dropping V14, V15, V16, V17, V18, V19 and V20 since they have a low correlation. "
   ]
  },
  {
   "cell_type": "code",
   "execution_count": 15,
   "id": "5274eb4f",
   "metadata": {},
   "outputs": [],
   "source": [
    "df.drop(df[['V14', 'V15', 'V16', 'V17', 'V18', 'V19', 'V20']], axis = 1, inplace = True)"
   ]
  },
  {
   "cell_type": "code",
   "execution_count": 16,
   "id": "469d0129",
   "metadata": {},
   "outputs": [
    {
     "data": {
      "text/plain": [
       "Index(['Time', 'V1', 'V2', 'V3', 'V4', 'V5', 'V6', 'V7', 'V8', 'V9', 'V10',\n",
       "       'V11', 'V12', 'V13', 'V21', 'V22', 'V23', 'V24', 'V25', 'V26', 'V27',\n",
       "       'V28', 'Amount', 'Class'],\n",
       "      dtype='object')"
      ]
     },
     "execution_count": 16,
     "metadata": {},
     "output_type": "execute_result"
    }
   ],
   "source": [
    "# Printing the columns to make sure that the above columns were dropped\n",
    "df.columns"
   ]
  },
  {
   "cell_type": "markdown",
   "id": "933e9c7c",
   "metadata": {},
   "source": [
    "It shows that the features with a low correlation were dropped. "
   ]
  },
  {
   "cell_type": "markdown",
   "id": "c80d1f63",
   "metadata": {},
   "source": [
    "## Part 2: Machine Learning and Deep Learning Algorithms"
   ]
  },
  {
   "cell_type": "markdown",
   "id": "1a9c7d3b",
   "metadata": {},
   "source": [
    "### Importing the necessary libraries"
   ]
  },
  {
   "cell_type": "code",
   "execution_count": 17,
   "id": "dd98ca62",
   "metadata": {},
   "outputs": [],
   "source": [
    "# Importing the machine learning algorithms\n",
    "# Importing Logistic Regression\n",
    "from sklearn.linear_model import LogisticRegression\n",
    "# Importing Naive Bayes\n",
    "from sklearn.naive_bayes import GaussianNB\n",
    "# Importing K-Neareat Neighbor\n",
    "from sklearn.neighbors import KNeighborsClassifier\n",
    "# Importing Random Forest\n",
    "from sklearn.ensemble import RandomForestClassifier\n",
    "# Importing Decision Tree\n",
    "from sklearn.tree import DecisionTreeClassifier"
   ]
  },
  {
   "cell_type": "code",
   "execution_count": 18,
   "id": "68586f9f",
   "metadata": {},
   "outputs": [],
   "source": [
    "# Importing the performance metrics- confusion matrix, accuracy, precision, recall, auc, f1-score\n",
    "from sklearn.metrics import confusion_matrix, accuracy_score, precision_score, recall_score, roc_auc_score, f1_score"
   ]
  },
  {
   "cell_type": "markdown",
   "id": "38021e23",
   "metadata": {},
   "source": [
    "Installing the imbalanced-learn package. This will be used to import the necessary packages.  "
   ]
  },
  {
   "cell_type": "code",
   "execution_count": 19,
   "id": "8c7c4c86",
   "metadata": {},
   "outputs": [
    {
     "name": "stdout",
     "output_type": "stream",
     "text": [
      "Requirement already satisfied: imbalanced-learn in c:\\users\\hili\\anaconda3\\lib\\site-packages (0.10.1)\n",
      "Requirement already satisfied: threadpoolctl>=2.0.0 in c:\\users\\hili\\anaconda3\\lib\\site-packages (from imbalanced-learn) (2.2.0)\n",
      "Requirement already satisfied: joblib>=1.1.1 in c:\\users\\hili\\anaconda3\\lib\\site-packages (from imbalanced-learn) (1.2.0)\n",
      "Requirement already satisfied: scikit-learn>=1.0.2 in c:\\users\\hili\\anaconda3\\lib\\site-packages (from imbalanced-learn) (1.0.2)\n",
      "Requirement already satisfied: numpy>=1.17.3 in c:\\users\\hili\\anaconda3\\lib\\site-packages (from imbalanced-learn) (1.23.5)\n",
      "Requirement already satisfied: scipy>=1.3.2 in c:\\users\\hili\\anaconda3\\lib\\site-packages (from imbalanced-learn) (1.9.1)\n"
     ]
    }
   ],
   "source": [
    "!pip install -U imbalanced-learn"
   ]
  },
  {
   "cell_type": "code",
   "execution_count": 20,
   "id": "005abf4e",
   "metadata": {},
   "outputs": [],
   "source": [
    "# Importing the oversampling, undersampling and a combination of both- SMOTE, Tomek Links, SMOTETomek respectively\n",
    "from imblearn.over_sampling import SMOTE\n",
    "from imblearn.under_sampling import TomekLinks\n",
    "from imblearn.combine import SMOTETomek"
   ]
  },
  {
   "cell_type": "markdown",
   "id": "969a6f16",
   "metadata": {},
   "source": [
    "### Splitting the dataset into train and test"
   ]
  },
  {
   "cell_type": "code",
   "execution_count": 21,
   "id": "6663da68",
   "metadata": {},
   "outputs": [],
   "source": [
    "# Defining the input features and output feature\n",
    "X = df.drop(['Class'], axis = 1) # Input features\n",
    "Y = df['Class'] # Output feature"
   ]
  },
  {
   "cell_type": "markdown",
   "id": "777bd0f2",
   "metadata": {},
   "source": [
    "Scaling the features so that the input features are on a similar scale which makes the algorithms run faster and achieve a better performance."
   ]
  },
  {
   "cell_type": "code",
   "execution_count": 22,
   "id": "bf9ba1b7",
   "metadata": {},
   "outputs": [],
   "source": [
    "from sklearn.preprocessing import StandardScaler\n",
    "# Scale the features\n",
    "scaler = StandardScaler()\n",
    "X = scaler.fit_transform(X)"
   ]
  },
  {
   "cell_type": "code",
   "execution_count": 23,
   "id": "73195b27",
   "metadata": {},
   "outputs": [],
   "source": [
    "# Importing the train_test_split\n",
    "from sklearn.model_selection import train_test_split\n",
    "# Splitting the dataset into train and test. Test size of 0.3. 70/30 split\n",
    "x_train, x_test, y_train, y_test = train_test_split(X, Y, random_state = 2, test_size = 0.3)"
   ]
  },
  {
   "cell_type": "markdown",
   "id": "6c63ceb2",
   "metadata": {},
   "source": [
    "### Oversampling"
   ]
  },
  {
   "cell_type": "markdown",
   "id": "0c90904b",
   "metadata": {},
   "source": [
    "SMOTE stands for Synthetic Minority Over-Sampling Technique. SMOTE will be used as an oversampling technique. "
   ]
  },
  {
   "cell_type": "markdown",
   "id": "a907e196",
   "metadata": {},
   "source": [
    "#### Logistic Regression"
   ]
  },
  {
   "cell_type": "code",
   "execution_count": 24,
   "id": "89a2ce51",
   "metadata": {},
   "outputs": [],
   "source": [
    "# Applying SMOTE to balance the data in the training dataset\n",
    "LR_smote = SMOTE(random_state = 2)\n",
    "x_train_smote, y_train_smote = LR_smote.fit_resample(x_train, y_train)\n",
    "\n",
    "# Defining the algorithm\n",
    "logistic_regression = LogisticRegression()\n",
    "\n",
    "# Fitting the algorithm and making predictions on the testing dataset\n",
    "logistic_regression.fit(x_train_smote, y_train_smote)\n",
    "y_pred = logistic_regression.predict(x_test)\n",
    "\n",
    "# Calculating the performance metrics\n",
    "confmatrix = confusion_matrix(y_test, y_pred)\n",
    "accuracy = accuracy_score(y_test, y_pred)\n",
    "precision = precision_score(y_test, y_pred, average = 'weighted')\n",
    "recall = recall_score(y_test, y_pred, average = 'weighted')\n",
    "auc = roc_auc_score(y_test, y_pred, average = 'weighted')\n",
    "f1score = f1_score(y_test, y_pred, average = 'weighted')"
   ]
  },
  {
   "cell_type": "code",
   "execution_count": 25,
   "id": "4dfdefef",
   "metadata": {},
   "outputs": [
    {
     "data": {
      "image/png": "[encoded data removed]",
      "text/plain": [
       "<Figure size 300x300 with 1 Axes>"
      ]
     },
     "metadata": {},
     "output_type": "display_data"
    }
   ],
   "source": [
    "confmatrix = confusion_matrix(y_test, y_pred)\n",
    "fig, ax = plt.subplots(figsize = (3,3))\n",
    "ax.matshow(confmatrix, cmap = plt.cm.Blues, alpha = 0.3)\n",
    "\n",
    "for i in range (confmatrix.shape[0]):\n",
    "    for j in range (confmatrix.shape[1]):\n",
    "        ax.text(x = j, y = i, s = confmatrix[i, j], va = 'center', ha = 'center', size = 'large')\n",
    "\n",
    "plt.xlabel('Predictions', fontsize = 10)\n",
    "plt.ylabel('Actuals', fontsize = 10)\n",
    "plt.title('Confusion Matrix', fontsize = 10)\n",
    "plt.show()"
   ]
  },
  {
   "cell_type": "code",
   "execution_count": 26,
   "id": "142a9e56",
   "metadata": {},
   "outputs": [
    {
     "name": "stdout",
     "output_type": "stream",
     "text": [
      "Accuracy: 97.09%\n",
      "Precision: 99.83%\n",
      "Recall: 97.09%\n",
      "AUC Score: 92.83%\n",
      "F1-Score: 98.39%\n"
     ]
    }
   ],
   "source": [
    "# calculating the average of each performance metric and multiplying by 100 to print it as a percentage\n",
    "# printing the accuracy\n",
    "print(\"Accuracy: {:.2f}%\".format(np.mean(accuracy) * 100))\n",
    "# printing the precision\n",
    "print(\"Precision: {:.2f}%\".format(np.mean(precision) * 100)) \n",
    "# printing the recall\n",
    "print(\"Recall: {:.2f}%\".format(np.mean(recall) * 100))\n",
    "# printing the AUC score\n",
    "print(\"AUC Score: {:.2f}%\".format(np.mean(auc) * 100))\n",
    "# printing the f1-score\n",
    "print(\"F1-Score: {:.2f}%\".format(np.mean(f1score) * 100))"
   ]
  },
  {
   "cell_type": "markdown",
   "id": "f9cfdbd6",
   "metadata": {},
   "source": [
    "#### Naive Bayes"
   ]
  },
  {
   "cell_type": "code",
   "execution_count": 27,
   "id": "018aa634",
   "metadata": {},
   "outputs": [],
   "source": [
    "# Applying SMOTE to balance the data in the training dataset\n",
    "NB_smote = SMOTE(random_state = 2)\n",
    "x_train_smote, y_train_smote = NB_smote.fit_resample(x_train, y_train)\n",
    "\n",
    "# Defining the algorithm\n",
    "naive_bayes = GaussianNB()\n",
    "\n",
    "# Fitting the algorithm and making predictions on the testing dataset\n",
    "naive_bayes.fit(x_train_smote, y_train_smote)\n",
    "y_pred = naive_bayes.predict(x_test)\n",
    "\n",
    "# Calculating the performance metrics\n",
    "confmatrix = confusion_matrix(y_test, y_pred)\n",
    "accuracy = accuracy_score(y_test, y_pred)\n",
    "precision = precision_score(y_test, y_pred, average = 'weighted')\n",
    "recall = recall_score(y_test, y_pred, average = 'weighted')\n",
    "auc = roc_auc_score(y_test, y_pred, average = 'weighted')\n",
    "f1score = f1_score(y_test, y_pred, average = 'weighted')"
   ]
  },
  {
   "cell_type": "code",
   "execution_count": 28,
   "id": "026eccc1",
   "metadata": {},
   "outputs": [
    {
     "data": {
      "image/png": "[encoded data removed]",
      "text/plain": [
       "<Figure size 300x300 with 1 Axes>"
      ]
     },
     "metadata": {},
     "output_type": "display_data"
    }
   ],
   "source": [
    "confmatrix = confusion_matrix(y_test, y_pred)\n",
    "fig, ax = plt.subplots(figsize = (3,3))\n",
    "ax.matshow(confmatrix, cmap = plt.cm.Blues, alpha = 0.3)\n",
    "\n",
    "for i in range (confmatrix.shape[0]):\n",
    "    for j in range (confmatrix.shape[1]):\n",
    "        ax.text(x = j, y = i, s = confmatrix[i, j], va = 'center', ha = 'center', size = 'large')\n",
    "\n",
    "plt.xlabel('Predictions', fontsize = 10)\n",
    "plt.ylabel('Actuals', fontsize = 10)\n",
    "plt.title('Confusion Matrix', fontsize = 10)\n",
    "plt.show()"
   ]
  },
  {
   "cell_type": "code",
   "execution_count": 29,
   "id": "ee01ccfb",
   "metadata": {},
   "outputs": [
    {
     "name": "stdout",
     "output_type": "stream",
     "text": [
      "Accuracy: 97.34%\n",
      "Precision: 99.82%\n",
      "Recall: 97.34%\n",
      "AUC Score: 87.23%\n",
      "F1-Score: 98.51%\n"
     ]
    }
   ],
   "source": [
    "# calculating the average of each performance metric and multiplying by 100 to print it as a percentage\n",
    "# printing the accuracy\n",
    "print(\"Accuracy: {:.2f}%\".format(np.mean(accuracy) * 100))\n",
    "# printing the precision\n",
    "print(\"Precision: {:.2f}%\".format(np.mean(precision) * 100)) \n",
    "# printing the recall\n",
    "print(\"Recall: {:.2f}%\".format(np.mean(recall) * 100))\n",
    "# printing the AUC score\n",
    "print(\"AUC Score: {:.2f}%\".format(np.mean(auc) * 100))\n",
    "# printing the f1-score\n",
    "print(\"F1-Score: {:.2f}%\".format(np.mean(f1score) * 100))"
   ]
  },
  {
   "cell_type": "markdown",
   "id": "500c26d8",
   "metadata": {},
   "source": [
    "#### K-Nearest Neighbor"
   ]
  },
  {
   "cell_type": "code",
   "execution_count": 30,
   "id": "509fa9d6",
   "metadata": {},
   "outputs": [],
   "source": [
    "# Applying SMOTE to balance the data in the training dataset\n",
    "KNN_smote = SMOTE(random_state = 2)\n",
    "x_train_smote, y_train_smote = KNN_smote.fit_resample(x_train, y_train)\n",
    "\n",
    "# Defining the algorithm\n",
    "knn = KNeighborsClassifier()\n",
    "\n",
    "# Fitting the algorithm and making predictions on the testing dataset\n",
    "knn.fit(x_train_smote, y_train_smote)\n",
    "y_pred = knn.predict(x_test)\n",
    "\n",
    "# Calculating the performance metrics\n",
    "confmatrix = confusion_matrix(y_test, y_pred)\n",
    "accuracy = accuracy_score(y_test, y_pred)\n",
    "precision = precision_score(y_test, y_pred, average = 'weighted')\n",
    "recall = recall_score(y_test, y_pred, average = 'weighted')\n",
    "auc = roc_auc_score(y_test, y_pred, average = 'weighted')\n",
    "f1score = f1_score(y_test, y_pred, average = 'weighted')"
   ]
  },
  {
   "cell_type": "code",
   "execution_count": 31,
   "id": "5727271a",
   "metadata": {},
   "outputs": [
    {
     "data": {
      "image/png": "[encoded data removed]",
      "text/plain": [
       "<Figure size 300x300 with 1 Axes>"
      ]
     },
     "metadata": {},
     "output_type": "display_data"
    }
   ],
   "source": [
    "confmatrix = confusion_matrix(y_test, y_pred)\n",
    "fig, ax = plt.subplots(figsize = (3,3))\n",
    "ax.matshow(confmatrix, cmap = plt.cm.Blues, alpha = 0.3)\n",
    "\n",
    "for i in range (confmatrix.shape[0]):\n",
    "    for j in range (confmatrix.shape[1]):\n",
    "        ax.text(x = j, y = i, s = confmatrix[i, j], va = 'center', ha = 'center', size = 'large')\n",
    "\n",
    "plt.xlabel('Predictions', fontsize = 10)\n",
    "plt.ylabel('Actuals', fontsize = 10)\n",
    "plt.title('Confusion Matrix', fontsize = 10)\n",
    "plt.show()"
   ]
  },
  {
   "cell_type": "code",
   "execution_count": 32,
   "id": "413ef7f6",
   "metadata": {},
   "outputs": [
    {
     "name": "stdout",
     "output_type": "stream",
     "text": [
      "Accuracy: 99.77%\n",
      "Precision: 99.87%\n",
      "Recall: 99.77%\n",
      "AUC Score: 89.59%\n",
      "F1-Score: 99.81%\n"
     ]
    }
   ],
   "source": [
    "# calculating the average of each performance metric and multiplying by 100 to print it as a percentage\n",
    "# printing the accuracy\n",
    "print(\"Accuracy: {:.2f}%\".format(np.mean(accuracy) * 100))\n",
    "# printing the precision\n",
    "print(\"Precision: {:.2f}%\".format(np.mean(precision) * 100)) \n",
    "# printing the recall\n",
    "print(\"Recall: {:.2f}%\".format(np.mean(recall) * 100))\n",
    "# printing the AUC score\n",
    "print(\"AUC Score: {:.2f}%\".format(np.mean(auc) * 100))\n",
    "# printing the f1-score\n",
    "print(\"F1-Score: {:.2f}%\".format(np.mean(f1score) * 100))"
   ]
  },
  {
   "cell_type": "markdown",
   "id": "8b1bf3ec",
   "metadata": {},
   "source": [
    "#### Random Forest"
   ]
  },
  {
   "cell_type": "code",
   "execution_count": 33,
   "id": "ea3319c8",
   "metadata": {},
   "outputs": [],
   "source": [
    "# Applying SMOTE to balance the data in the training dataset\n",
    "RF_smote = SMOTE(random_state = 2)\n",
    "x_train_smote, y_train_smote = RF_smote.fit_resample(x_train, y_train)\n",
    "\n",
    "# Defining the algorithm\n",
    "random_forest = RandomForestClassifier()\n",
    "\n",
    "# Fitting the algorithm and making predictions on the testing dataset\n",
    "random_forest.fit(x_train_smote, y_train_smote)\n",
    "y_pred = random_forest.predict(x_test)\n",
    "\n",
    "# Calculating the performance metrics\n",
    "confmatrix = confusion_matrix(y_test, y_pred)\n",
    "accuracy = accuracy_score(y_test, y_pred)\n",
    "precision = precision_score(y_test, y_pred, average = 'weighted')\n",
    "recall = recall_score(y_test, y_pred, average = 'weighted')\n",
    "auc = roc_auc_score(y_test, y_pred, average = 'weighted')\n",
    "f1score = f1_score(y_test, y_pred, average = 'weighted')"
   ]
  },
  {
   "cell_type": "code",
   "execution_count": 34,
   "id": "e54fe40b",
   "metadata": {},
   "outputs": [
    {
     "data": {
      "image/png": "[encoded data removed]",
      "text/plain": [
       "<Figure size 300x300 with 1 Axes>"
      ]
     },
     "metadata": {},
     "output_type": "display_data"
    }
   ],
   "source": [
    "confmatrix = confusion_matrix(y_test, y_pred)\n",
    "fig, ax = plt.subplots(figsize = (3,3))\n",
    "ax.matshow(confmatrix, cmap = plt.cm.Blues, alpha = 0.3)\n",
    "\n",
    "for i in range (confmatrix.shape[0]):\n",
    "    for j in range (confmatrix.shape[1]):\n",
    "        ax.text(x = j, y = i, s = confmatrix[i, j], va = 'center', ha = 'center', size = 'large')\n",
    "\n",
    "plt.xlabel('Predictions', fontsize = 10)\n",
    "plt.ylabel('Actuals', fontsize = 10)\n",
    "plt.title('Confusion Matrix', fontsize = 10)\n",
    "plt.show()"
   ]
  },
  {
   "cell_type": "code",
   "execution_count": 35,
   "id": "1d4bc7bb",
   "metadata": {},
   "outputs": [
    {
     "name": "stdout",
     "output_type": "stream",
     "text": [
      "Accuracy: 99.95%\n",
      "Precision: 99.94%\n",
      "Recall: 99.95%\n",
      "AUC Score: 87.78%\n",
      "F1-Score: 99.94%\n"
     ]
    }
   ],
   "source": [
    "# calculating the average of each performance metric and multiplying by 100 to print it as a percentage\n",
    "# printing the accuracy\n",
    "print(\"Accuracy: {:.2f}%\".format(np.mean(accuracy) * 100))\n",
    "# printing the precision\n",
    "print(\"Precision: {:.2f}%\".format(np.mean(precision) * 100)) \n",
    "# printing the recall\n",
    "print(\"Recall: {:.2f}%\".format(np.mean(recall) * 100))\n",
    "# printing the AUC score\n",
    "print(\"AUC Score: {:.2f}%\".format(np.mean(auc) * 100))\n",
    "# printing the f1-score\n",
    "print(\"F1-Score: {:.2f}%\".format(np.mean(f1score) * 100))"
   ]
  },
  {
   "cell_type": "markdown",
   "id": "a1a6fee3",
   "metadata": {},
   "source": [
    "#### Decision Tree"
   ]
  },
  {
   "cell_type": "code",
   "execution_count": 36,
   "id": "d2d93de3",
   "metadata": {},
   "outputs": [],
   "source": [
    "# Applying SMOTE to balance the data in the training dataset\n",
    "DT_smote = SMOTE(random_state = 2)\n",
    "x_train_smote, y_train_smote = DT_smote.fit_resample(x_train, y_train)\n",
    "\n",
    "# Defining the algorithm\n",
    "decision_tree = DecisionTreeClassifier()\n",
    "\n",
    "# Fitting the algorithm and making predictions on the testing dataset\n",
    "decision_tree.fit(x_train_smote, y_train_smote)\n",
    "y_pred = decision_tree.predict(x_test)\n",
    "\n",
    "# Calculating the performance metrics\n",
    "confmatrix = confusion_matrix(y_test, y_pred)\n",
    "accuracy = accuracy_score(y_test, y_pred)\n",
    "precision = precision_score(y_test, y_pred, average = 'weighted')\n",
    "recall = recall_score(y_test, y_pred, average = 'weighted')\n",
    "auc = roc_auc_score(y_test, y_pred, average = 'weighted')\n",
    "f1score = f1_score(y_test, y_pred, average = 'weighted')"
   ]
  },
  {
   "cell_type": "code",
   "execution_count": 37,
   "id": "19e3ef13",
   "metadata": {},
   "outputs": [
    {
     "data": {
      "image/png": "[encoded data removed]",
      "text/plain": [
       "<Figure size 300x300 with 1 Axes>"
      ]
     },
     "metadata": {},
     "output_type": "display_data"
    }
   ],
   "source": [
    "confmatrix = confusion_matrix(y_test, y_pred)\n",
    "fig, ax = plt.subplots(figsize = (3,3))\n",
    "ax.matshow(confmatrix, cmap = plt.cm.Blues, alpha = 0.3)\n",
    "\n",
    "for i in range (confmatrix.shape[0]):\n",
    "    for j in range (confmatrix.shape[1]):\n",
    "        ax.text(x = j, y = i, s = confmatrix[i, j], va = 'center', ha = 'center', size = 'large')\n",
    "\n",
    "plt.xlabel('Predictions', fontsize = 10)\n",
    "plt.ylabel('Actuals', fontsize = 10)\n",
    "plt.title('Confusion Matrix', fontsize = 10)\n",
    "plt.show()"
   ]
  },
  {
   "cell_type": "code",
   "execution_count": 38,
   "id": "2747f930",
   "metadata": {},
   "outputs": [
    {
     "name": "stdout",
     "output_type": "stream",
     "text": [
      "Accuracy: 99.74%\n",
      "Precision: 99.86%\n",
      "Recall: 99.74%\n",
      "AUC Score: 86.91%\n",
      "F1-Score: 99.79%\n"
     ]
    }
   ],
   "source": [
    "# calculating the average of each performance metric and multiplying by 100 to print it as a percentage\n",
    "# printing the accuracy\n",
    "print(\"Accuracy: {:.2f}%\".format(np.mean(accuracy) * 100))\n",
    "# printing the precision\n",
    "print(\"Precision: {:.2f}%\".format(np.mean(precision) * 100)) \n",
    "# printing the recall\n",
    "print(\"Recall: {:.2f}%\".format(np.mean(recall) * 100))\n",
    "# printing the AUC score\n",
    "print(\"AUC Score: {:.2f}%\".format(np.mean(auc) * 100))\n",
    "# printing the f1-score\n",
    "print(\"F1-Score: {:.2f}%\".format(np.mean(f1score) * 100))"
   ]
  },
  {
   "cell_type": "markdown",
   "id": "201d972c",
   "metadata": {},
   "source": [
    "### Undersampling"
   ]
  },
  {
   "cell_type": "markdown",
   "id": "36b93b40",
   "metadata": {},
   "source": [
    "Tomek Links will be used as an undersampling technique."
   ]
  },
  {
   "cell_type": "markdown",
   "id": "95da8ea9",
   "metadata": {},
   "source": [
    "#### Logistic Regression"
   ]
  },
  {
   "cell_type": "code",
   "execution_count": 39,
   "id": "2c3731ef",
   "metadata": {},
   "outputs": [],
   "source": [
    "# Applying Tomek Links to balance the data in the training dataset\n",
    "LR_tomek = TomekLinks()\n",
    "x_train_tomek, y_train_tomek = LR_tomek.fit_resample(x_train, y_train)\n",
    "\n",
    "# Defining the algorithm\n",
    "logistic_regression = LogisticRegression()\n",
    "\n",
    "# Fitting the algorithm and making predictions on the testing dataset\n",
    "logistic_regression.fit(x_train_tomek, y_train_tomek)\n",
    "y_pred = logistic_regression.predict(x_test)\n",
    "\n",
    "# Calculating the performance metrics\n",
    "confmatrix = confusion_matrix(y_test, y_pred)\n",
    "accuracy = accuracy_score(y_test, y_pred)\n",
    "precision = precision_score(y_test, y_pred, average = 'weighted')\n",
    "recall = recall_score(y_test, y_pred, average = 'weighted')\n",
    "auc = roc_auc_score(y_test, y_pred, average = 'weighted')\n",
    "f1score = f1_score(y_test, y_pred, average = 'weighted')"
   ]
  },
  {
   "cell_type": "code",
   "execution_count": 40,
   "id": "25e2dbb2",
   "metadata": {},
   "outputs": [
    {
     "data": {
      "image/png": "[encoded data removed]",
      "text/plain": [
       "<Figure size 300x300 with 1 Axes>"
      ]
     },
     "metadata": {},
     "output_type": "display_data"
    }
   ],
   "source": [
    "confmatrix = confusion_matrix(y_test, y_pred)\n",
    "fig, ax = plt.subplots(figsize = (3,3))\n",
    "ax.matshow(confmatrix, cmap = plt.cm.Blues, alpha = 0.3)\n",
    "\n",
    "for i in range (confmatrix.shape[0]):\n",
    "    for j in range (confmatrix.shape[1]):\n",
    "        ax.text(x = j, y = i, s = confmatrix[i, j], va = 'center', ha = 'center', size = 'large')\n",
    "\n",
    "plt.xlabel('Predictions', fontsize = 10)\n",
    "plt.ylabel('Actuals', fontsize = 10)\n",
    "plt.title('Confusion Matrix', fontsize = 10)\n",
    "plt.show()"
   ]
  },
  {
   "cell_type": "code",
   "execution_count": 41,
   "id": "e21e7e2d",
   "metadata": {},
   "outputs": [
    {
     "name": "stdout",
     "output_type": "stream",
     "text": [
      "Accuracy: 99.91%\n",
      "Precision: 99.91%\n",
      "Recall: 99.91%\n",
      "AUC Score: 78.62%\n",
      "F1-Score: 99.91%\n"
     ]
    }
   ],
   "source": [
    "# calculating the average of each performance metric and multiplying by 100 to print it as a percentage\n",
    "# printing the accuracy\n",
    "print(\"Accuracy: {:.2f}%\".format(np.mean(accuracy) * 100))\n",
    "# printing the precision\n",
    "print(\"Precision: {:.2f}%\".format(np.mean(precision) * 100)) \n",
    "# printing the recall\n",
    "print(\"Recall: {:.2f}%\".format(np.mean(recall) * 100))\n",
    "# printing the AUC score\n",
    "print(\"AUC Score: {:.2f}%\".format(np.mean(auc) * 100))\n",
    "# printing the f1-score\n",
    "print(\"F1-Score: {:.2f}%\".format(np.mean(f1score) * 100))"
   ]
  },
  {
   "cell_type": "markdown",
   "id": "27db76f8",
   "metadata": {},
   "source": [
    "#### Naive Bayes"
   ]
  },
  {
   "cell_type": "code",
   "execution_count": 42,
   "id": "6bda9234",
   "metadata": {},
   "outputs": [],
   "source": [
    "# Applying Tomek Links to balance the data in the training dataset\n",
    "NB_tomek = TomekLinks()\n",
    "x_train_tomek, y_train_tomek = NB_tomek.fit_resample(x_train, y_train)\n",
    "\n",
    "# Defining the algorithm\n",
    "naive_bayes = GaussianNB()\n",
    "\n",
    "# Fitting the algorithm and making predictions on the testing dataset\n",
    "naive_bayes.fit(x_train_tomek, y_train_tomek)\n",
    "y_pred = naive_bayes.predict(x_test)\n",
    "\n",
    "# Calculating the performance metrics\n",
    "confmatrix = confusion_matrix(y_test, y_pred)\n",
    "accuracy = accuracy_score(y_test, y_pred)\n",
    "precision = precision_score(y_test, y_pred, average = 'weighted')\n",
    "recall = recall_score(y_test, y_pred, average = 'weighted')\n",
    "auc = roc_auc_score(y_test, y_pred, average = 'weighted')\n",
    "f1score = f1_score(y_test, y_pred, average = 'weighted')"
   ]
  },
  {
   "cell_type": "code",
   "execution_count": 43,
   "id": "ee37875f",
   "metadata": {},
   "outputs": [
    {
     "data": {
      "image/png": "[encoded data removed]",
      "text/plain": [
       "<Figure size 300x300 with 1 Axes>"
      ]
     },
     "metadata": {},
     "output_type": "display_data"
    }
   ],
   "source": [
    "confmatrix = confusion_matrix(y_test, y_pred)\n",
    "fig, ax = plt.subplots(figsize = (3,3))\n",
    "ax.matshow(confmatrix, cmap = plt.cm.Blues, alpha = 0.3)\n",
    "\n",
    "for i in range (confmatrix.shape[0]):\n",
    "    for j in range (confmatrix.shape[1]):\n",
    "        ax.text(x = j, y = i, s = confmatrix[i, j], va = 'center', ha = 'center', size = 'large')\n",
    "\n",
    "plt.xlabel('Predictions', fontsize = 10)\n",
    "plt.ylabel('Actuals', fontsize = 10)\n",
    "plt.title('Confusion Matrix', fontsize = 10)\n",
    "plt.show()"
   ]
  },
  {
   "cell_type": "code",
   "execution_count": 44,
   "id": "77bd4ccc",
   "metadata": {},
   "outputs": [
    {
     "name": "stdout",
     "output_type": "stream",
     "text": [
      "Accuracy: 97.73%\n",
      "Precision: 99.80%\n",
      "Recall: 97.73%\n",
      "AUC Score: 82.86%\n",
      "F1-Score: 98.71%\n"
     ]
    }
   ],
   "source": [
    "# calculating the average of each performance metric and multiplying by 100 to print it as a percentage\n",
    "# printing the accuracy\n",
    "print(\"Accuracy: {:.2f}%\".format(np.mean(accuracy) * 100))\n",
    "# printing the precision\n",
    "print(\"Precision: {:.2f}%\".format(np.mean(precision) * 100)) \n",
    "# printing the recall\n",
    "print(\"Recall: {:.2f}%\".format(np.mean(recall) * 100))\n",
    "# printing the AUC score\n",
    "print(\"AUC Score: {:.2f}%\".format(np.mean(auc) * 100))\n",
    "# printing the f1-score\n",
    "print(\"F1-Score: {:.2f}%\".format(np.mean(f1score) * 100))"
   ]
  },
  {
   "cell_type": "markdown",
   "id": "6c1d28da",
   "metadata": {},
   "source": [
    "#### K-Nearest Neighbor"
   ]
  },
  {
   "cell_type": "code",
   "execution_count": 45,
   "id": "e2b62c80",
   "metadata": {},
   "outputs": [],
   "source": [
    "# Applying Tomek Links to balance the data in the training dataset\n",
    "KNN_tomek = TomekLinks()\n",
    "x_train_tomek, y_train_tomek = KNN_tomek.fit_resample(x_train, y_train)\n",
    "\n",
    "# Defining the algorithm\n",
    "knn = KNeighborsClassifier()\n",
    "\n",
    "# Fitting the algorithm and making predictions on the testing dataset\n",
    "knn.fit(x_train_tomek, y_train_tomek)\n",
    "y_pred = knn.predict(x_test)\n",
    "\n",
    "# Calculating the performance metrics\n",
    "confmatrix = confusion_matrix(y_test, y_pred)\n",
    "accuracy = accuracy_score(y_test, y_pred)\n",
    "precision = precision_score(y_test, y_pred, average = 'weighted')\n",
    "recall = recall_score(y_test, y_pred, average = 'weighted')\n",
    "auc = roc_auc_score(y_test, y_pred, average = 'weighted')\n",
    "f1score = f1_score(y_test, y_pred, average = 'weighted')"
   ]
  },
  {
   "cell_type": "code",
   "execution_count": 46,
   "id": "e4e7cefa",
   "metadata": {},
   "outputs": [
    {
     "data": {
      "image/png": "[encoded data removed]",
      "text/plain": [
       "<Figure size 300x300 with 1 Axes>"
      ]
     },
     "metadata": {},
     "output_type": "display_data"
    }
   ],
   "source": [
    "confmatrix = confusion_matrix(y_test, y_pred)\n",
    "fig, ax = plt.subplots(figsize = (3,3))\n",
    "ax.matshow(confmatrix, cmap = plt.cm.Blues, alpha = 0.3)\n",
    "\n",
    "for i in range (confmatrix.shape[0]):\n",
    "    for j in range (confmatrix.shape[1]):\n",
    "        ax.text(x = j, y = i, s = confmatrix[i, j], va = 'center', ha = 'center', size = 'large')\n",
    "\n",
    "plt.xlabel('Predictions', fontsize = 10)\n",
    "plt.ylabel('Actuals', fontsize = 10)\n",
    "plt.title('Confusion Matrix', fontsize = 10)\n",
    "plt.show()"
   ]
  },
  {
   "cell_type": "code",
   "execution_count": 47,
   "id": "c871d377",
   "metadata": {},
   "outputs": [
    {
     "name": "stdout",
     "output_type": "stream",
     "text": [
      "Accuracy: 99.95%\n",
      "Precision: 99.94%\n",
      "Recall: 99.95%\n",
      "AUC Score: 84.35%\n",
      "F1-Score: 99.94%\n"
     ]
    }
   ],
   "source": [
    "# calculating the average of each performance metric and multiplying by 100 to print it as a percentage\n",
    "# printing the accuracy\n",
    "print(\"Accuracy: {:.2f}%\".format(np.mean(accuracy) * 100))\n",
    "# printing the precision\n",
    "print(\"Precision: {:.2f}%\".format(np.mean(precision) * 100)) \n",
    "# printing the recall\n",
    "print(\"Recall: {:.2f}%\".format(np.mean(recall) * 100))\n",
    "# printing the AUC score\n",
    "print(\"AUC Score: {:.2f}%\".format(np.mean(auc) * 100))\n",
    "# printing the f1-score\n",
    "print(\"F1-Score: {:.2f}%\".format(np.mean(f1score) * 100))"
   ]
  },
  {
   "cell_type": "markdown",
   "id": "e1da247d",
   "metadata": {},
   "source": [
    "#### Random Forest"
   ]
  },
  {
   "cell_type": "code",
   "execution_count": 48,
   "id": "b9f906de",
   "metadata": {},
   "outputs": [],
   "source": [
    "# Applying Tomek Links to balance the data in the training dataset\n",
    "RF_tomek = TomekLinks()\n",
    "x_train_tomek, y_train_tomek = RF_tomek.fit_resample(x_train, y_train)\n",
    "\n",
    "# Defining the algorithm\n",
    "random_forest = RandomForestClassifier()\n",
    "\n",
    "# Fitting the algorithm and making predictions on the testing dataset\n",
    "random_forest.fit(x_train_tomek, y_train_tomek)\n",
    "y_pred = random_forest.predict(x_test)\n",
    "\n",
    "# Calculating the performance metrics\n",
    "confmatrix = confusion_matrix(y_test, y_pred)\n",
    "accuracy = accuracy_score(y_test, y_pred)\n",
    "precision = precision_score(y_test, y_pred, average = 'weighted')\n",
    "recall = recall_score(y_test, y_pred, average = 'weighted')\n",
    "auc = roc_auc_score(y_test, y_pred, average = 'weighted')\n",
    "f1score = f1_score(y_test, y_pred, average = 'weighted')"
   ]
  },
  {
   "cell_type": "code",
   "execution_count": 49,
   "id": "0e552324",
   "metadata": {},
   "outputs": [
    {
     "data": {
      "image/png": "[encoded data removed]",
      "text/plain": [
       "<Figure size 300x300 with 1 Axes>"
      ]
     },
     "metadata": {},
     "output_type": "display_data"
    }
   ],
   "source": [
    "confmatrix = confusion_matrix(y_test, y_pred)\n",
    "fig, ax = plt.subplots(figsize = (3,3))\n",
    "ax.matshow(confmatrix, cmap = plt.cm.Blues, alpha = 0.3)\n",
    "\n",
    "for i in range (confmatrix.shape[0]):\n",
    "    for j in range (confmatrix.shape[1]):\n",
    "        ax.text(x = j, y = i, s = confmatrix[i, j], va = 'center', ha = 'center', size = 'large')\n",
    "\n",
    "plt.xlabel('Predictions', fontsize = 10)\n",
    "plt.ylabel('Actuals', fontsize = 10)\n",
    "plt.title('Confusion Matrix', fontsize = 10)\n",
    "plt.show()"
   ]
  },
  {
   "cell_type": "code",
   "execution_count": 50,
   "id": "052cb198",
   "metadata": {},
   "outputs": [
    {
     "name": "stdout",
     "output_type": "stream",
     "text": [
      "Accuracy: 99.94%\n",
      "Precision: 99.94%\n",
      "Recall: 99.94%\n",
      "AUC Score: 83.20%\n",
      "F1-Score: 99.94%\n"
     ]
    }
   ],
   "source": [
    "# calculating the average of each performance metric and multiplying by 100 to print it as a percentage\n",
    "# printing the accuracy\n",
    "print(\"Accuracy: {:.2f}%\".format(np.mean(accuracy) * 100))\n",
    "# printing the precision\n",
    "print(\"Precision: {:.2f}%\".format(np.mean(precision) * 100)) \n",
    "# printing the recall\n",
    "print(\"Recall: {:.2f}%\".format(np.mean(recall) * 100))\n",
    "# printing the AUC score\n",
    "print(\"AUC Score: {:.2f}%\".format(np.mean(auc) * 100))\n",
    "# printing the f1-score\n",
    "print(\"F1-Score: {:.2f}%\".format(np.mean(f1score) * 100))"
   ]
  },
  {
   "cell_type": "markdown",
   "id": "ad63353c",
   "metadata": {},
   "source": [
    "#### Decision Tree"
   ]
  },
  {
   "cell_type": "code",
   "execution_count": 51,
   "id": "00115be9",
   "metadata": {},
   "outputs": [],
   "source": [
    "# Applying Tomek Links to balance the data in the training dataset\n",
    "DT_tomek = TomekLinks()\n",
    "x_train_tomek, y_train_tomek = DT_tomek.fit_resample(x_train, y_train)\n",
    "\n",
    "# Defining the algorithm\n",
    "decision_tree = DecisionTreeClassifier()\n",
    "\n",
    "# Fitting the algorithm and making predictions on the testing dataset\n",
    "decision_tree.fit(x_train_tomek, y_train_tomek)\n",
    "y_pred = decision_tree.predict(x_test)\n",
    "\n",
    "# Calculating the performance metrics\n",
    "confmatrix = confusion_matrix(y_test, y_pred)\n",
    "accuracy = accuracy_score(y_test, y_pred)\n",
    "precision = precision_score(y_test, y_pred, average = 'weighted')\n",
    "recall = recall_score(y_test, y_pred, average = 'weighted')\n",
    "auc = roc_auc_score(y_test, y_pred, average = 'weighted')\n",
    "f1score = f1_score(y_test, y_pred, average = 'weighted')"
   ]
  },
  {
   "cell_type": "code",
   "execution_count": 52,
   "id": "c622d8d0",
   "metadata": {},
   "outputs": [
    {
     "data": {
      "image/png": "[encoded data removed]",
      "text/plain": [
       "<Figure size 300x300 with 1 Axes>"
      ]
     },
     "metadata": {},
     "output_type": "display_data"
    }
   ],
   "source": [
    "confmatrix = confusion_matrix(y_test, y_pred)\n",
    "fig, ax = plt.subplots(figsize = (3,3))\n",
    "ax.matshow(confmatrix, cmap = plt.cm.Blues, alpha = 0.3)\n",
    "\n",
    "for i in range (confmatrix.shape[0]):\n",
    "    for j in range (confmatrix.shape[1]):\n",
    "        ax.text(x = j, y = i, s = confmatrix[i, j], va = 'center', ha = 'center', size = 'large')\n",
    "\n",
    "plt.xlabel('Predictions', fontsize = 10)\n",
    "plt.ylabel('Actuals', fontsize = 10)\n",
    "plt.title('Confusion Matrix', fontsize = 10)\n",
    "plt.show()"
   ]
  },
  {
   "cell_type": "code",
   "execution_count": 53,
   "id": "dc7b7612",
   "metadata": {},
   "outputs": [
    {
     "name": "stdout",
     "output_type": "stream",
     "text": [
      "Accuracy: 99.91%\n",
      "Precision: 99.91%\n",
      "Recall: 99.91%\n",
      "AUC Score: 82.04%\n",
      "F1-Score: 99.91%\n"
     ]
    }
   ],
   "source": [
    "# calculating the average of each performance metric and multiplying by 100 to print it as a percentage\n",
    "# printing the accuracy\n",
    "print(\"Accuracy: {:.2f}%\".format(np.mean(accuracy) * 100))\n",
    "# printing the precision\n",
    "print(\"Precision: {:.2f}%\".format(np.mean(precision) * 100)) \n",
    "# printing the recall\n",
    "print(\"Recall: {:.2f}%\".format(np.mean(recall) * 100))\n",
    "# printing the AUC score\n",
    "print(\"AUC Score: {:.2f}%\".format(np.mean(auc) * 100))\n",
    "# printing the f1-score\n",
    "print(\"F1-Score: {:.2f}%\".format(np.mean(f1score) * 100))"
   ]
  },
  {
   "cell_type": "markdown",
   "id": "e5094bc6",
   "metadata": {},
   "source": [
    "### Combination of oversampling and undersampling"
   ]
  },
  {
   "cell_type": "markdown",
   "id": "3284c72f",
   "metadata": {},
   "source": [
    "SMOTETomek is a hybrid technique that combines both SMOTE and Tomek Link. SMOTETomek will be used as an oversampling and undersampling technique."
   ]
  },
  {
   "cell_type": "markdown",
   "id": "9dc0b496",
   "metadata": {},
   "source": [
    "#### Logistic Regression"
   ]
  },
  {
   "cell_type": "code",
   "execution_count": 54,
   "id": "92c88325",
   "metadata": {},
   "outputs": [],
   "source": [
    "# Applying SMOTETomek to balance the data in the training dataset\n",
    "LR_smotetomek = SMOTETomek(random_state = 2)\n",
    "x_train_smotetomek, y_train_smotetomek = LR_smotetomek.fit_resample(x_train, y_train)\n",
    "\n",
    "# Defining the algorithm\n",
    "logistic_regression = LogisticRegression()\n",
    "\n",
    "# Fitting the algorithm and making predictions on the testing dataset\n",
    "logistic_regression.fit(x_train_smotetomek, y_train_smotetomek)\n",
    "y_pred = logistic_regression.predict(x_test)\n",
    "\n",
    "# Calculating the performance metrics\n",
    "confmatrix = confusion_matrix(y_test, y_pred)\n",
    "accuracy = accuracy_score(y_test, y_pred)\n",
    "precision = precision_score(y_test, y_pred, average = 'weighted')\n",
    "recall = recall_score(y_test, y_pred, average = 'weighted')\n",
    "auc = roc_auc_score(y_test, y_pred, average = 'weighted')\n",
    "f1score = f1_score(y_test, y_pred, average = 'weighted')"
   ]
  },
  {
   "cell_type": "code",
   "execution_count": 55,
   "id": "d4aa36c5",
   "metadata": {},
   "outputs": [
    {
     "data": {
      "image/png": "[encoded data removed]",
      "text/plain": [
       "<Figure size 300x300 with 1 Axes>"
      ]
     },
     "metadata": {},
     "output_type": "display_data"
    }
   ],
   "source": [
    "confmatrix = confusion_matrix(y_test, y_pred)\n",
    "fig, ax = plt.subplots(figsize = (3,3))\n",
    "ax.matshow(confmatrix, cmap = plt.cm.Blues, alpha = 0.3)\n",
    "\n",
    "for i in range (confmatrix.shape[0]):\n",
    "    for j in range (confmatrix.shape[1]):\n",
    "        ax.text(x = j, y = i, s = confmatrix[i, j], va = 'center', ha = 'center', size = 'large')\n",
    "\n",
    "plt.xlabel('Predictions', fontsize = 10)\n",
    "plt.ylabel('Actuals', fontsize = 10)\n",
    "plt.title('Confusion Matrix', fontsize = 10)\n",
    "plt.show()"
   ]
  },
  {
   "cell_type": "code",
   "execution_count": 56,
   "id": "b289e27f",
   "metadata": {},
   "outputs": [
    {
     "name": "stdout",
     "output_type": "stream",
     "text": [
      "Accuracy: 97.09%\n",
      "Precision: 99.83%\n",
      "Recall: 97.09%\n",
      "AUC Score: 92.83%\n",
      "F1-Score: 98.39%\n"
     ]
    }
   ],
   "source": [
    "# calculating the average of each performance metric and multiplying by 100 to print it as a percentage\n",
    "# printing the accuracy\n",
    "print(\"Accuracy: {:.2f}%\".format(np.mean(accuracy) * 100))\n",
    "# printing the precision\n",
    "print(\"Precision: {:.2f}%\".format(np.mean(precision) * 100)) \n",
    "# printing the recall\n",
    "print(\"Recall: {:.2f}%\".format(np.mean(recall) * 100))\n",
    "# printing the AUC score\n",
    "print(\"AUC Score: {:.2f}%\".format(np.mean(auc) * 100))\n",
    "# printing the f1-score\n",
    "print(\"F1-Score: {:.2f}%\".format(np.mean(f1score) * 100))"
   ]
  },
  {
   "cell_type": "markdown",
   "id": "b084122a",
   "metadata": {},
   "source": [
    "#### Naive Bayes"
   ]
  },
  {
   "cell_type": "code",
   "execution_count": 57,
   "id": "ad769e59",
   "metadata": {},
   "outputs": [],
   "source": [
    "# Applying SMOTETomek to balance the data in the training dataset\n",
    "NB_smotetomek = SMOTETomek(random_state = 2)\n",
    "x_train_smotetomek, y_train_smotetomek = NB_smotetomek.fit_resample(x_train, y_train)\n",
    "\n",
    "# Defining the algorithm\n",
    "naive_bayes = GaussianNB()\n",
    "\n",
    "# Fitting the algorithm and making predictions on the testing dataset\n",
    "naive_bayes.fit(x_train_smotetomek, y_train_smotetomek)\n",
    "y_pred = naive_bayes.predict(x_test)\n",
    "\n",
    "# Calculating the performance metrics\n",
    "confmatrix = confusion_matrix(y_test, y_pred)\n",
    "accuracy = accuracy_score(y_test, y_pred)\n",
    "precision = precision_score(y_test, y_pred, average = 'weighted')\n",
    "recall = recall_score(y_test, y_pred, average = 'weighted')\n",
    "auc = roc_auc_score(y_test, y_pred, average = 'weighted')\n",
    "f1score = f1_score(y_test, y_pred, average = 'weighted')"
   ]
  },
  {
   "cell_type": "code",
   "execution_count": 58,
   "id": "e487cafa",
   "metadata": {},
   "outputs": [
    {
     "data": {
      "image/png": "[encoded data removed]",
      "text/plain": [
       "<Figure size 300x300 with 1 Axes>"
      ]
     },
     "metadata": {},
     "output_type": "display_data"
    }
   ],
   "source": [
    "confmatrix = confusion_matrix(y_test, y_pred)\n",
    "fig, ax = plt.subplots(figsize = (3,3))\n",
    "ax.matshow(confmatrix, cmap = plt.cm.Blues, alpha = 0.3)\n",
    "\n",
    "for i in range (confmatrix.shape[0]):\n",
    "    for j in range (confmatrix.shape[1]):\n",
    "        ax.text(x = j, y = i, s = confmatrix[i, j], va = 'center', ha = 'center', size = 'large')\n",
    "\n",
    "plt.xlabel('Predictions', fontsize = 10)\n",
    "plt.ylabel('Actuals', fontsize = 10)\n",
    "plt.title('Confusion Matrix', fontsize = 10)\n",
    "plt.show()"
   ]
  },
  {
   "cell_type": "code",
   "execution_count": 59,
   "id": "fa115222",
   "metadata": {},
   "outputs": [
    {
     "name": "stdout",
     "output_type": "stream",
     "text": [
      "Accuracy: 97.34%\n",
      "Precision: 99.82%\n",
      "Recall: 97.34%\n",
      "AUC Score: 87.23%\n",
      "F1-Score: 98.51%\n"
     ]
    }
   ],
   "source": [
    "# calculating the average of each performance metric and multiplying by 100 to print it as a percentage\n",
    "# printing the accuracy\n",
    "print(\"Accuracy: {:.2f}%\".format(np.mean(accuracy) * 100))\n",
    "# printing the precision\n",
    "print(\"Precision: {:.2f}%\".format(np.mean(precision) * 100)) \n",
    "# printing the recall\n",
    "print(\"Recall: {:.2f}%\".format(np.mean(recall) * 100))\n",
    "# printing the AUC score\n",
    "print(\"AUC Score: {:.2f}%\".format(np.mean(auc) * 100))\n",
    "# printing the f1-score\n",
    "print(\"F1-Score: {:.2f}%\".format(np.mean(f1score) * 100))"
   ]
  },
  {
   "cell_type": "markdown",
   "id": "52ab3565",
   "metadata": {},
   "source": [
    "#### K-Nearest Neighbor"
   ]
  },
  {
   "cell_type": "code",
   "execution_count": 60,
   "id": "f10572a0",
   "metadata": {},
   "outputs": [],
   "source": [
    "# Applying SMOTETomek to balance the data in the training dataset\n",
    "KNN_smotetomek = SMOTETomek(random_state = 2)\n",
    "x_train_smotetomek, y_train_smotetomek = KNN_smotetomek.fit_resample(x_train, y_train)\n",
    "\n",
    "# Defining the algorithm\n",
    "knn = KNeighborsClassifier()\n",
    "\n",
    "# Fitting the algorithm and making predictions on the testing dataset\n",
    "knn.fit(x_train_smotetomek, y_train_smotetomek)\n",
    "y_pred = knn.predict(x_test)\n",
    "\n",
    "# Calculating the performance metrics\n",
    "confmatrix = confusion_matrix(y_test, y_pred)\n",
    "accuracy = accuracy_score(y_test, y_pred)\n",
    "precision = precision_score(y_test, y_pred, average = 'weighted')\n",
    "recall = recall_score(y_test, y_pred, average = 'weighted')\n",
    "auc = roc_auc_score(y_test, y_pred, average = 'weighted')\n",
    "f1score = f1_score(y_test, y_pred, average = 'weighted')"
   ]
  },
  {
   "cell_type": "code",
   "execution_count": 61,
   "id": "bc17c45d",
   "metadata": {},
   "outputs": [
    {
     "data": {
      "image/png": "[encoded data removed]",
      "text/plain": [
       "<Figure size 300x300 with 1 Axes>"
      ]
     },
     "metadata": {},
     "output_type": "display_data"
    }
   ],
   "source": [
    "confmatrix = confusion_matrix(y_test, y_pred)\n",
    "fig, ax = plt.subplots(figsize = (3,3))\n",
    "ax.matshow(confmatrix, cmap = plt.cm.Blues, alpha = 0.3)\n",
    "\n",
    "for i in range (confmatrix.shape[0]):\n",
    "    for j in range (confmatrix.shape[1]):\n",
    "        ax.text(x = j, y = i, s = confmatrix[i, j], va = 'center', ha = 'center', size = 'large')\n",
    "\n",
    "plt.xlabel('Predictions', fontsize = 10)\n",
    "plt.ylabel('Actuals', fontsize = 10)\n",
    "plt.title('Confusion Matrix', fontsize = 10)\n",
    "plt.show()"
   ]
  },
  {
   "cell_type": "code",
   "execution_count": 62,
   "id": "75cb1c14",
   "metadata": {},
   "outputs": [
    {
     "name": "stdout",
     "output_type": "stream",
     "text": [
      "Accuracy: 99.77%\n",
      "Precision: 99.87%\n",
      "Recall: 99.77%\n",
      "AUC Score: 89.59%\n",
      "F1-Score: 99.81%\n"
     ]
    }
   ],
   "source": [
    "# calculating the average of each performance metric and multiplying by 100 to print it as a percentage\n",
    "# printing the accuracy\n",
    "print(\"Accuracy: {:.2f}%\".format(np.mean(accuracy) * 100))\n",
    "# printing the precision\n",
    "print(\"Precision: {:.2f}%\".format(np.mean(precision) * 100)) \n",
    "# printing the recall\n",
    "print(\"Recall: {:.2f}%\".format(np.mean(recall) * 100))\n",
    "# printing the AUC score\n",
    "print(\"AUC Score: {:.2f}%\".format(np.mean(auc) * 100))\n",
    "# printing the f1-score\n",
    "print(\"F1-Score: {:.2f}%\".format(np.mean(f1score) * 100))"
   ]
  },
  {
   "cell_type": "markdown",
   "id": "b9332308",
   "metadata": {},
   "source": [
    "#### Random Forest"
   ]
  },
  {
   "cell_type": "code",
   "execution_count": 63,
   "id": "26121ee5",
   "metadata": {},
   "outputs": [],
   "source": [
    "# Applying SMOTETomek to balance the data in the training dataset\n",
    "RF_smotetomek = SMOTETomek(random_state = 2)\n",
    "x_train_smotetomek, y_train_smotetomek = RF_smotetomek.fit_resample(x_train, y_train)\n",
    "\n",
    "# Defining the algorithm\n",
    "random_forest = RandomForestClassifier()\n",
    "\n",
    "# Fitting the algorithm and making predictions on the testing dataset\n",
    "random_forest.fit(x_train_smotetomek, y_train_smotetomek)\n",
    "y_pred = random_forest.predict(x_test)\n",
    "\n",
    "# Calculating the performance metrics\n",
    "confmatrix = confusion_matrix(y_test, y_pred)\n",
    "accuracy = accuracy_score(y_test, y_pred)\n",
    "precision = precision_score(y_test, y_pred, average = 'weighted')\n",
    "recall = recall_score(y_test, y_pred, average = 'weighted')\n",
    "auc = roc_auc_score(y_test, y_pred, average = 'weighted')\n",
    "f1score = f1_score(y_test, y_pred, average = 'weighted')"
   ]
  },
  {
   "cell_type": "code",
   "execution_count": 64,
   "id": "7718b0f3",
   "metadata": {},
   "outputs": [
    {
     "data": {
      "image/png": "[encoded data removed]",
      "text/plain": [
       "<Figure size 300x300 with 1 Axes>"
      ]
     },
     "metadata": {},
     "output_type": "display_data"
    }
   ],
   "source": [
    "confmatrix = confusion_matrix(y_test, y_pred)\n",
    "fig, ax = plt.subplots(figsize = (3,3))\n",
    "ax.matshow(confmatrix, cmap = plt.cm.Blues, alpha = 0.3)\n",
    "\n",
    "for i in range (confmatrix.shape[0]):\n",
    "    for j in range (confmatrix.shape[1]):\n",
    "        ax.text(x = j, y = i, s = confmatrix[i, j], va = 'center', ha = 'center', size = 'large')\n",
    "\n",
    "plt.xlabel('Predictions', fontsize = 10)\n",
    "plt.ylabel('Actuals', fontsize = 10)\n",
    "plt.title('Confusion Matrix', fontsize = 10)\n",
    "plt.show()"
   ]
  },
  {
   "cell_type": "code",
   "execution_count": 65,
   "id": "200a8187",
   "metadata": {},
   "outputs": [
    {
     "name": "stdout",
     "output_type": "stream",
     "text": [
      "Accuracy: 99.95%\n",
      "Precision: 99.95%\n",
      "Recall: 99.95%\n",
      "AUC Score: 88.54%\n",
      "F1-Score: 99.95%\n"
     ]
    }
   ],
   "source": [
    "# calculating the average of each performance metric and multiplying by 100 to print it as a percentage\n",
    "# printing the accuracy\n",
    "print(\"Accuracy: {:.2f}%\".format(np.mean(accuracy) * 100))\n",
    "# printing the precision\n",
    "print(\"Precision: {:.2f}%\".format(np.mean(precision) * 100)) \n",
    "# printing the recall\n",
    "print(\"Recall: {:.2f}%\".format(np.mean(recall) * 100))\n",
    "# printing the AUC score\n",
    "print(\"AUC Score: {:.2f}%\".format(np.mean(auc) * 100))\n",
    "# printing the f1-score\n",
    "print(\"F1-Score: {:.2f}%\".format(np.mean(f1score) * 100))"
   ]
  },
  {
   "cell_type": "markdown",
   "id": "c22188d9",
   "metadata": {},
   "source": [
    "#### Decision Tree"
   ]
  },
  {
   "cell_type": "code",
   "execution_count": 66,
   "id": "0afdba34",
   "metadata": {},
   "outputs": [],
   "source": [
    "# Applying SMOTETomek to balance the data in the training dataset\n",
    "DT_smotetomek = SMOTETomek(random_state = 2)\n",
    "x_train_smotetomek, y_train_smotetomek = DT_smotetomek.fit_resample(x_train, y_train)\n",
    "\n",
    "# Defining the algorithm\n",
    "decision_tree = DecisionTreeClassifier()\n",
    "\n",
    "# Fitting the algorithm and making predictions on the testing dataset\n",
    "decision_tree.fit(x_train_smotetomek, y_train_smotetomek)\n",
    "y_pred = decision_tree.predict(x_test)\n",
    "\n",
    "# Calculating the performance metrics\n",
    "confmatrix = confusion_matrix(y_test, y_pred)\n",
    "accuracy = accuracy_score(y_test, y_pred)\n",
    "precision = precision_score(y_test, y_pred, average = 'weighted')\n",
    "recall = recall_score(y_test, y_pred, average = 'weighted')\n",
    "auc = roc_auc_score(y_test, y_pred, average = 'weighted')\n",
    "f1score = f1_score(y_test, y_pred, average = 'weighted')"
   ]
  },
  {
   "cell_type": "code",
   "execution_count": 67,
   "id": "77ef0203",
   "metadata": {},
   "outputs": [
    {
     "data": {
      "image/png": "[encoded data removed]",
      "text/plain": [
       "<Figure size 300x300 with 1 Axes>"
      ]
     },
     "metadata": {},
     "output_type": "display_data"
    }
   ],
   "source": [
    "confmatrix = confusion_matrix(y_test, y_pred)\n",
    "fig, ax = plt.subplots(figsize = (3,3))\n",
    "ax.matshow(confmatrix, cmap = plt.cm.Blues, alpha = 0.3)\n",
    "\n",
    "for i in range (confmatrix.shape[0]):\n",
    "    for j in range (confmatrix.shape[1]):\n",
    "        ax.text(x = j, y = i, s = confmatrix[i, j], va = 'center', ha = 'center', size = 'large')\n",
    "\n",
    "plt.xlabel('Predictions', fontsize = 10)\n",
    "plt.ylabel('Actuals', fontsize = 10)\n",
    "plt.title('Confusion Matrix', fontsize = 10)\n",
    "plt.show()"
   ]
  },
  {
   "cell_type": "code",
   "execution_count": 68,
   "id": "a4d98030",
   "metadata": {},
   "outputs": [
    {
     "name": "stdout",
     "output_type": "stream",
     "text": [
      "Accuracy: 99.73%\n",
      "Precision: 99.86%\n",
      "Recall: 99.73%\n",
      "AUC Score: 87.67%\n",
      "F1-Score: 99.78%\n"
     ]
    }
   ],
   "source": [
    "# calculating the average of each performance metric and multiplying by 100 to print it as a percentage\n",
    "# printing the accuracy\n",
    "print(\"Accuracy: {:.2f}%\".format(np.mean(accuracy) * 100))\n",
    "# printing the precision\n",
    "print(\"Precision: {:.2f}%\".format(np.mean(precision) * 100)) \n",
    "# printing the recall\n",
    "print(\"Recall: {:.2f}%\".format(np.mean(recall) * 100))\n",
    "# printing the AUC score\n",
    "print(\"AUC Score: {:.2f}%\".format(np.mean(auc) * 100))\n",
    "# printing the f1-score\n",
    "print(\"F1-Score: {:.2f}%\".format(np.mean(f1score) * 100))"
   ]
  }
 ],
 "metadata": {
  "kernelspec": {
   "display_name": "Python 3 (ipykernel)",
   "language": "python",
   "name": "python3"
  },
  "language_info": {
   "codemirror_mode": {
    "name": "ipython",
    "version": 3
   },
   "file_extension": ".py",
   "mimetype": "text/x-python",
   "name": "python",
   "nbconvert_exporter": "python",
   "pygments_lexer": "ipython3",
   "version": "3.9.13"
  }
 },
 "nbformat": 4,
 "nbformat_minor": 5
}
